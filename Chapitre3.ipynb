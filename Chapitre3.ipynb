{
 "cells": [
  {
   "cell_type": "markdown",
   "id": "eb92a7fd-41a0-4163-b108-abbcf9abef6c",
   "metadata": {},
   "source": [
    "# Exercice Chap 3\n",
    "### CRUD operations\n",
    "#### Create a new db name Todo and a new collection named \"CRUD_exercise\" and do the following:"
   ]
  },
  {
   "cell_type": "code",
   "execution_count": null,
   "id": "e3a02782-95e2-499c-af5b-8702e8955cb1",
   "metadata": {},
   "outputs": [],
   "source": [
    "import pymongo\n",
    "\n",
    "# open connection at port 27017 https://en.wikipedia.org/wiki/List_of_TCP_and_UDP_port_numbers\n",
    "client = pymongo.MongoClient('localhost', 27017)\n",
    "# create db tutorial\n",
    "mydb = client[\"Todo\"]\n",
    "# create collection example\n",
    "collection = mydb[\"CRUD_exercise\"]"
   ]
  },
  {
   "cell_type": "markdown",
   "id": "fea63896-bd8b-41bc-8995-ababad72f5fd",
   "metadata": {},
   "source": [
    "#### 1: Take the dict created in the exercise 3 Chapter II and save it in the collection \"CRUD_exercise\"."
   ]
  },
  {
   "cell_type": "code",
   "execution_count": null,
   "id": "64ddc3fe-8485-41be-ae33-51fd43ab4440",
   "metadata": {},
   "outputs": [],
   "source": [
    "# random dict\n",
    "\n",
    "paper = {\"authors\" : [\"Yann LeCun, Yoshua Bengio, Geoffrey Hinton\"],\n",
    "         \"title\" : \"Deep Learning\",\n",
    "         \"affiliations\" : [\"New York University\",\"Université de Montréal,\",\"University of Toronto\"]}\n",
    "\n",
    "collection.insert_one(paper)"
   ]
  },
  {
   "cell_type": "markdown",
   "id": "a8413036-88ed-4b4d-94c6-0cf218f41215",
   "metadata": {},
   "source": [
    "#### 2: Insert 3 documents with key = x and values = 1, delete one of them. Which one is deleted first ? the most recent or oldest one ? increment the value of x to 4."
   ]
  },
  {
   "cell_type": "code",
   "execution_count": null,
   "id": "9fba63c0-c459-409e-8319-282fba41c797",
   "metadata": {},
   "outputs": [],
   "source": [
    "#Creating\n",
    "\n",
    "for i in tqdm.tqdm(range(3)):\n",
    "    post = {\"x\":1}\n",
    "    collection.insert_one(post)\n",
    "\n",
    "# Deleting\n",
    "\n",
    "collection.delete_one({'x': 1})"
   ]
  },
  {
   "cell_type": "markdown",
   "id": "99997800-a897-476e-8757-acfc3402b9f3",
   "metadata": {},
   "source": [
    "#### The oldest one is deleted"
   ]
  },
  {
   "cell_type": "code",
   "execution_count": null,
   "id": "a66b8929-dded-49dc-8359-87cc0438a9aa",
   "metadata": {},
   "outputs": [],
   "source": [
    "# Updating\n",
    "\n",
    "collection.update_many({'x': 1}, {'$inc': {'x': 3}})"
   ]
  },
  {
   "cell_type": "markdown",
   "id": "70d2b330-8cf1-40a5-a8dc-55e4f25191f0",
   "metadata": {},
   "source": [
    "#### 3: Insert the dict created in the exercise 6 Chapter II in the example collection."
   ]
  },
  {
   "cell_type": "code",
   "execution_count": null,
   "id": "63707928-412f-4170-99c7-6efce9c9ae8b",
   "metadata": {},
   "outputs": [],
   "source": [
    "print(dict)\n",
    "\n",
    "mydb2 = client['tutorial']\n",
    "collection2 = mydb2[\"example\"]\n",
    "\n",
    "collection2.insert_one(dict)"
   ]
  },
  {
   "cell_type": "markdown",
   "id": "73903b26-ce02-47f4-a28a-ab3186bcf111",
   "metadata": {},
   "source": [
    "#### 4: Get documents where authors key exist in the collection \"CRUD_exercise\"."
   ]
  },
  {
   "cell_type": "code",
   "execution_count": null,
   "id": "40f6c071-5351-4a4d-90df-1f590ca2e201",
   "metadata": {},
   "outputs": [],
   "source": [
    "docs = collection.find({\"authors\" : {\"$exists\": True}})\n",
    "\n",
    "for doc in docs:\n",
    "    print(doc)"
   ]
  },
  {
   "cell_type": "markdown",
   "id": "7a138cab-f240-4541-8964-44b8e0fd33c5",
   "metadata": {},
   "source": [
    "#### 5: Change the documents where x = 4 to x = 1."
   ]
  },
  {
   "cell_type": "code",
   "execution_count": null,
   "id": "4f74b407-38b0-448f-933a-904c2f83d055",
   "metadata": {},
   "outputs": [],
   "source": [
    "collection.update_many({'x': 4}, {'$inc': {'x': - 3}})"
   ]
  },
  {
   "cell_type": "markdown",
   "id": "0cdb17f7-7f51-4a23-86be-16c0592082c6",
   "metadata": {},
   "source": [
    "#### 6: Find documents where author is not_mike and set author as real_mike."
   ]
  },
  {
   "cell_type": "code",
   "execution_count": null,
   "id": "fc0befbf-4560-482e-97ec-df5125924dc7",
   "metadata": {},
   "outputs": [],
   "source": [
    "collection.update_many({\"author\": \"not_mike\"},\n",
    "                      {'$set': {\n",
    "                          'author': \"real_mike\"\n",
    "                          }\n",
    "                      }, upsert=True)"
   ]
  },
  {
   "cell_type": "markdown",
   "id": "e1e88ef7-651b-45bd-9069-d9b87f02fb12",
   "metadata": {},
   "source": [
    "If we're talking about the collection CRUD_exercise, then we already know there is no document where author = not_mike. However, using the True statement in upsert allows us to add the modified document in the event where not_mike doesn't exist."
   ]
  },
  {
   "cell_type": "markdown",
   "id": "90db6769-4751-4d1d-a8ce-c2efac7cb756",
   "metadata": {},
   "source": [
    "#### 7: Delete documents where author is real_mike."
   ]
  },
  {
   "cell_type": "code",
   "execution_count": null,
   "id": "50546a73-f24c-4e99-9972-c0ad0c9d7399",
   "metadata": {},
   "outputs": [],
   "source": [
    "collection.delete_many({'author': \"real_mike\"})"
   ]
  },
  {
   "cell_type": "markdown",
   "id": "89da2cda-811e-449b-9337-9dc0182ccbf2",
   "metadata": {},
   "source": [
    "### Managing DB\n",
    "#### 8: create a collection named \"CRUD_exercise_benchmark\" with 500k observations, ids increment of 2 (sequence:0,2,4,6,...1M). Give a random np.array with a key named \"values\" and use the insert_many. Then create an index on the id and benchmark queries before and after indexing. Did the index help ?"
   ]
  },
  {
   "cell_type": "code",
   "execution_count": null,
   "id": "9235cd3e-5f3b-4417-b2a2-7e0e90300a57",
   "metadata": {},
   "outputs": [],
   "source": [
    "import pymongo\n",
    "import tqdm\n",
    "\n",
    "client = pymongo.MongoClient('localhost', 27017)\n",
    "mydb = client[\"tutorial\"]\n",
    "collection = mydb[\"CRUD_exercise_benchmark\"]\n",
    "\n",
    "list_of_insertion = []\n",
    "for i in tqdm.tqdm(range(0,500000,2)):\n",
    "    post = {\"values\":i}\n",
    "    list_of_insertion.append(post)\n",
    "\n",
    "        \n",
    "collection.insert_many(list_of_insertion)\n"
   ]
  },
  {
   "cell_type": "code",
   "execution_count": null,
   "id": "ed1c27eb-cfcd-403d-9ec1-a0554e881aa6",
   "metadata": {},
   "outputs": [],
   "source": [
    "unexpected_reviews = collection.find({\"review\": {\"$regex\": \".*unexpected.*\"}})\n",
    "\n",
    "# Count the number of such documents\n",
    "unexpected_count = unexpected_reviews.count()\n",
    "\n",
    "print(f\"Number of reviews containing 'unexpected': {unexpected_count}\")"
   ]
  },
  {
   "cell_type": "code",
   "execution_count": null,
   "id": "03dae9b9-b8bf-4694-b2ac-659e663c888f",
   "metadata": {},
   "outputs": [],
   "source": [
    "import time\n",
    "\n",
    "start_time = time.time()\n",
    "result = collection.find({\"values\":100000}) \n",
    "time.time() - start_time"
   ]
  },
  {
   "cell_type": "code",
   "execution_count": null,
   "id": "1815860a-58e2-44b2-93dc-3cee3fc59589",
   "metadata": {},
   "outputs": [],
   "source": [
    "collection.create_index([ (\"values\",1) ])"
   ]
  },
  {
   "cell_type": "code",
   "execution_count": null,
   "id": "f4d1d1e2-1956-44cb-ade1-63b0213f5bcc",
   "metadata": {},
   "outputs": [],
   "source": [
    "start_time = time.time()\n",
    "result = collection.find({\"values\":100000}) \n",
    "time.time() - start_time"
   ]
  },
  {
   "cell_type": "markdown",
   "id": "a4852e0b-440d-4bd0-b091-2c44793de801",
   "metadata": {},
   "source": [
    "I don't see much difference. Maybe the difference will appear in larger collections"
   ]
  },
  {
   "cell_type": "markdown",
   "id": "5eafb67c-c111-43fd-9eae-b5b04c343e74",
   "metadata": {},
   "source": [
    "#### 9: create a random collection in a random db and put the new collection in the tutorial DB"
   ]
  },
  {
   "cell_type": "code",
   "execution_count": 4,
   "id": "3cccf2ca-ffeb-445a-94e7-d28d2dbb707d",
   "metadata": {},
   "outputs": [
    {
     "ename": "NameError",
     "evalue": "name 'pymongo' is not defined",
     "output_type": "error",
     "traceback": [
      "\u001b[1;31m---------------------------------------------------------------------------\u001b[0m",
      "\u001b[1;31mNameError\u001b[0m                                 Traceback (most recent call last)",
      "Cell \u001b[1;32mIn[4], line 1\u001b[0m\n\u001b[1;32m----> 1\u001b[0m client \u001b[38;5;241m=\u001b[39m \u001b[43mpymongo\u001b[49m\u001b[38;5;241m.\u001b[39mMongoClient(\u001b[38;5;124m'\u001b[39m\u001b[38;5;124mlocalhost\u001b[39m\u001b[38;5;124m'\u001b[39m,\u001b[38;5;241m27017\u001b[39m)\n\u001b[0;32m      3\u001b[0m mydb_old \u001b[38;5;241m=\u001b[39m client[\u001b[38;5;124m\"\u001b[39m\u001b[38;5;124mrandomdb\u001b[39m\u001b[38;5;124m\"\u001b[39m]\n\u001b[0;32m      4\u001b[0m collection_old \u001b[38;5;241m=\u001b[39m mydb_old[\u001b[38;5;124m\"\u001b[39m\u001b[38;5;124mrandomcoll\u001b[39m\u001b[38;5;124m\"\u001b[39m]\n",
      "\u001b[1;31mNameError\u001b[0m: name 'pymongo' is not defined"
     ]
    }
   ],
   "source": [
    "client = pymongo.MongoClient('localhost',27017)\n",
    "\n",
    "mydb_old = client[\"randomdb\"]\n",
    "collection_old = mydb_old[\"randomcoll\"]\n",
    "\n",
    "new_posts = [{\"author\": \"Augustin\",\n",
    "              \"title\":\"This is a paper from another DB\",\n",
    "               \"text\": \"Another post!\",\n",
    "               \"affiliation\": \"University of Strasbourg\"}]\n",
    "\n",
    "collection_old.insert_many(new_posts)"
   ]
  },
  {
   "cell_type": "code",
   "execution_count": null,
   "id": "f61774b6-cbbe-478d-8311-d3f02c69cb2b",
   "metadata": {},
   "outputs": [],
   "source": [
    "mydb = client[\"tutorial\"] \n",
    "\n",
    "docs = collection_old.find()\n",
    "for doc in docs:\n",
    "    mydb[collection_old.name].insert_one(doc)"
   ]
  },
  {
   "cell_type": "markdown",
   "id": "1e1141cd-4003-4f95-b2d6-5e3fd69d164b",
   "metadata": {},
   "source": [
    "#### 10: What is the difference between an inner join and an outer join ? Is the query seen during course an inner or outer join ? Play with the query to show all the joins."
   ]
  },
  {
   "cell_type": "markdown",
   "id": "11b1608a-106c-44c4-8a91-3e45fe64e196",
   "metadata": {},
   "source": [
    "An inner join returns only the matching values between two databses, while an outer join returns all rows from one or both of the dbs being joined, along with any matching rows from the other table."
   ]
  },
  {
   "cell_type": "markdown",
   "id": "02be53ec-ba05-4a69-887a-798cff16723f",
   "metadata": {},
   "source": [
    "### Real world problems\n",
    "#### 11: Use the oaipmh and api code get papers after January 2020 and for \"cs,math,econ\" categories. Insert them in MongoDB. Import only the first 200. How is it sorted ? How can you define your own sort()? Query papers to get papers after 2021, which have 3 authors and with domain \"cs\"."
   ]
  },
  {
   "cell_type": "markdown",
   "id": "e1212a2e-fd25-443b-9589-eef4359541ec",
   "metadata": {},
   "source": [
    "#### 12: Do the same as exercise 8 but with the connection to the cluster. Then check the metrics and take screenshot of opcounters, logical size and connections."
   ]
  },
  {
   "cell_type": "markdown",
   "id": "465367d6-e7d2-467b-b397-47335a752f8e",
   "metadata": {},
   "source": [
    "#### 13: Download a random image and store it in a collection."
   ]
  },
  {
   "cell_type": "code",
   "execution_count": null,
   "id": "b76c55ac-354f-43c1-884f-ab64004ffd5b",
   "metadata": {},
   "outputs": [],
   "source": [
    "from PIL import Image\n",
    "from matplotlib import pyplot\n",
    "import numpy as np\n",
    "\n",
    "image = Image.open(\"C:/Users/user/OneDrive/Pictures/Posters/مقهى ابو الياس.jpg\")\n",
    "pyplot.imshow(image)\n",
    "pyplot.show()"
   ]
  },
  {
   "cell_type": "code",
   "execution_count": null,
   "id": "d3cd59bd-b04f-43d7-be9f-e11b19541c23",
   "metadata": {},
   "outputs": [],
   "source": [
    "import numpy as np\n",
    "from bson.binary import Binary\n",
    "import pickle\n",
    "import pymongo\n",
    "\n",
    "data = np.asarray(image)\n",
    "post = {}\n",
    "\n",
    "post['image'] = Binary( pickle.dumps( data, protocol=2) ) \n",
    "\n",
    "client = pymongo.MongoClient('localhost', 27017)\n",
    "mydb = client[\"tutorial\"]\n",
    "collection = mydb[\"image\"]\n",
    "collection.insert_one(post)"
   ]
  },
  {
   "cell_type": "markdown",
   "id": "981cb73d-9c07-4055-9141-04c880704cd6",
   "metadata": {},
   "source": [
    "#### 14: Try to store a pandas dataframe in mongoDB (array with rownames, array with colnames and matrix with values)"
   ]
  },
  {
   "cell_type": "code",
   "execution_count": null,
   "id": "4f876269-c040-45fd-a4d8-bbad3968b0cb",
   "metadata": {},
   "outputs": [],
   "source": [
    "import pandas as pd\n",
    "\n",
    "data = {\n",
    "    'A': [1, 2, 3],\n",
    "    'B': [4, 5, 6],\n",
    "    'C': [7, 8, 9]\n",
    "}\n",
    "\n",
    "row_names = ['X', 'Y', 'Z']\n",
    "\n",
    "df = pd.DataFrame(data, index=row_names)\n",
    "print(df)\n",
    "\n",
    "data_dict = {\n",
    "    'row_names': df.index.tolist(),\n",
    "    'col_names': df.columns.tolist(),\n",
    "    'values': df.values.tolist()\n",
    "}\n",
    "\n",
    "# Connect to MongoDB\n",
    "client = pymongo.MongoClient(\"mongodb://localhost:27017/\")\n",
    "db = client[\"exercise\"]  # Replace \"your_database_name\" with your actual database name\n",
    "collection = db[\"pandas\"]  # Replace \"your_collection_name\" with your actual collection name\n",
    "\n",
    "# Insert the dictionary into MongoDB\n",
    "collection.insert_one(data_dict)"
   ]
  },
  {
   "cell_type": "markdown",
   "id": "753e70cf-291e-44d5-b7a6-faac2a5e80e7",
   "metadata": {},
   "source": [
    "#### 15: Insert the movie_review.tsv data into mongodb. Then query it to find the number of review that are positive and negative review. Fetch the docs which have \"unexpected\" in their review, how many are they ? Think of a clever way to count the number of words in the review using MongoDB (hint: Transform the review text before the insert in MongoDB) and create a density of number of words per review."
   ]
  },
  {
   "cell_type": "code",
   "execution_count": null,
   "id": "873910be-fd26-4643-9a6e-595a92a212b6",
   "metadata": {},
   "outputs": [],
   "source": [
    "df = pd.read_csv('C:/Users/user/OneDrive/Documents/M1-APE-DS2E/Infrastructure_de_donnes/NoSQL/movie_review.tsv', sep='\\t')\n",
    "print(df)"
   ]
  },
  {
   "cell_type": "code",
   "execution_count": null,
   "id": "788b1326-a499-44c8-af9a-16e6d7983436",
   "metadata": {},
   "outputs": [],
   "source": [
    "client = pymongo.MongoClient(\"mongodb://localhost:27017/\")\n",
    "db = client[\"exercise\"]  # Replace \"your_database_name\" with your actual database name\n",
    "collection = db[\"movie_reviews\"]  # Collection to store movie reviews\n",
    "\n",
    "# Insert each row as a document into MongoDB\n",
    "data = df.to_dict(orient='records')\n",
    "collection.insert_many(data)\n"
   ]
  },
  {
   "cell_type": "code",
   "execution_count": null,
   "id": "c7938cc1-e6f3-42dc-852e-f498e4c535ca",
   "metadata": {},
   "outputs": [],
   "source": [
    "unexpected_reviews = collection.find({\"review\": {\"$regex\": \".*unexpected.*\"}})\n",
    "\n",
    "# Count the number of such documents\n",
    "unexpected_count = unexpected_reviews.count()\n",
    "\n",
    "print(f\"Number of reviews containing 'unexpected': {unexpected_count}\")"
   ]
  },
  {
   "cell_type": "markdown",
   "id": "c0298e87-bf97-41c2-bf36-93e9765a6186",
   "metadata": {},
   "source": [
    "#### 16: Download a sound sample. Try to store it in MongoDB"
   ]
  },
  {
   "cell_type": "code",
   "execution_count": null,
   "id": "6466750d-7c8a-41f2-ba63-d4d23fc16c1e",
   "metadata": {},
   "outputs": [],
   "source": [
    "import pymongo\n",
    "\n",
    "# Connect to MongoDB\n",
    "client = pymongo.MongoClient(\"mongodb://localhost:27017/\")\n",
    "db = client[\"exercise\"]  # Replace \"your_database_name\" with your actual database name\n",
    "collection = db[\"sound_samples\"]  # Collection to store sound samples\n",
    "\n",
    "# Read the sound sample file\n",
    "with open(\"C:/Users/user/OneDrive/Documents/M1-APE-DS2E/Infrastructure_de_donnes/NoSQL/734512__kmita__manawatu-river.m4a\", \"rb\") as f:\n",
    "    sound_data = f.read()\n",
    "\n",
    "# Create a document to store the sound sample\n",
    "doc = {\n",
    "    \"filename\": \"sound_sample.wav\",  # Name of the sound file\n",
    "    \"data\": sound_data  # Binary data of the sound file\n",
    "}\n",
    "\n",
    "# Insert the document into MongoDB\n",
    "collection.insert_one(doc)\n"
   ]
  },
  {
   "cell_type": "markdown",
   "id": "fe1f11ff-49ac-4b70-91b8-2b97ba375fa1",
   "metadata": {},
   "source": [
    "#### 17: Create a collection with 30M observation with a single key : \"year\" which is a random value between 2000-2020. Get documents with year = 2000. Does using an index helps ?"
   ]
  },
  {
   "cell_type": "code",
   "execution_count": null,
   "id": "65a58a0a-ae75-44ad-9269-0887fde655fa",
   "metadata": {},
   "outputs": [],
   "source": [
    "import pymongo\n",
    "import tqdm\n",
    "import random\n",
    "\n",
    "client = pymongo.MongoClient('localhost',27017)\n",
    "mydb = client[\"exercise\"]\n",
    "collection = mydb[\"years\"]\n",
    "\n",
    "list = []\n",
    "for i in tqdm.tqdm(range(300)):\n",
    "    y = {\"year\": random.randint(2000, 2020)}\n",
    "    list.append(y)\n",
    "    \n",
    "\n",
    "    \n",
    "collection.insert_many(list)"
   ]
  },
  {
   "cell_type": "code",
   "execution_count": null,
   "id": "78b3985d-43f6-4f2a-b3c6-1f23aed575e9",
   "metadata": {},
   "outputs": [],
   "source": [
    "for doc in docs:\n",
    "    print(doc)"
   ]
  },
  {
   "cell_type": "code",
   "execution_count": null,
   "id": "e6e362d5-6969-4c1b-841d-bdecc14499d1",
   "metadata": {},
   "outputs": [],
   "source": [
    "import time\n",
    "\n",
    "\n",
    "start_time = time.time()\n",
    "docs = collection.find({\"year\" : 2000})\n",
    "for doc in docs:\n",
    "    print(doc)\n",
    "time.time() - start_time\n"
   ]
  },
  {
   "cell_type": "code",
   "execution_count": null,
   "id": "dba48aed-1661-4458-8fa1-c28c0b864b8b",
   "metadata": {},
   "outputs": [],
   "source": [
    "collection.create_index([ (\"year\",1) ])\n",
    "\n",
    "start_time = time.time()\n",
    "docss = collection.find({\"year\" : 2000})\n",
    "for doc in docss:\n",
    "    print(doc)\n",
    "time.time() - start_time\n"
   ]
  },
  {
   "cell_type": "markdown",
   "id": "99bb9c5f-d767-4d99-ba8f-4fcd9be008e1",
   "metadata": {},
   "source": [
    "Yes the indexing helps. The operation wenr from 0.00199 seconds to 0.00099"
   ]
  },
  {
   "cell_type": "markdown",
   "id": "a85b5824-48f2-4e33-85d0-02c341a7e506",
   "metadata": {},
   "source": [
    "### Real World application 1"
   ]
  },
  {
   "cell_type": "code",
   "execution_count": null,
   "id": "3ee2d26f-378b-4949-970a-a9492275b7c6",
   "metadata": {},
   "outputs": [],
   "source": [
    "import pymongo\n",
    "import zipfile\n",
    "import json\n",
    "\n",
    "# Connect to MongoDB\n",
    "client = pymongo.MongoClient(\"mongodb://localhost:27017/\")\n",
    "db = client[\"exercise\"]  # Replace \"your_database_name\" with your actual database name\n",
    "collection = db[\"pubmed_articles\"]  # Collection to store PubMed articles\n",
    "\n",
    "with open(\"C:/Users/user/OneDrive/Documents/M1-APE-DS2E/Infrastructure_de_donnes/NoSQL/pubmed_cleaned.json\", \"r\") as file:\n",
    "    data = json.load(file)\n",
    "    for doc in data:\n",
    "        doc.pop(\"_id\", None)  # Remove the _id field\n",
    "    collection.insert_many(data)"
   ]
  },
  {
   "cell_type": "markdown",
   "id": "bffa3129-d80b-4fd3-91bf-3f89ee8581c9",
   "metadata": {},
   "source": [
    "#### 1: Create an index, explain your choice of key."
   ]
  },
  {
   "cell_type": "code",
   "execution_count": null,
   "id": "182aca26-8fd3-4bd0-a627-1980a44cc224",
   "metadata": {},
   "outputs": [],
   "source": [
    "collection.create_index([ (\"pmid\",1) ])"
   ]
  },
  {
   "cell_type": "markdown",
   "id": "981c36cb-5741-44be-8088-dbd9e47ba26a",
   "metadata": {},
   "source": [
    "The indexed field must be made of unique values (or at least its better taht it be made of unique values."
   ]
  },
  {
   "cell_type": "markdown",
   "id": "edf89e30-33d6-4fdf-9b94-d59abd176026",
   "metadata": {},
   "source": [
    "#### 2: Delete every paper that was published prior 2019"
   ]
  },
  {
   "cell_type": "code",
   "execution_count": null,
   "id": "dd5637e1-7368-408b-acc2-aa78ac5e4bd2",
   "metadata": {},
   "outputs": [],
   "source": [
    "print(collection.count_documents({'date_medline': {'$lt': 'year 2019, month 1, day 1, hour 1, minute 0'}}))\n",
    "\n",
    "print(collection.count_documents({'date_accepted': {'$lt': 'year 2019, month 1, day 1, hour 1, minute 0'}}))\n"
   ]
  },
  {
   "cell_type": "markdown",
   "id": "a314225e-104d-4382-9e5b-8d299e5f2726",
   "metadata": {},
   "source": [
    "Which key represents the publishing date? If its date_medline, then there are no articles published before 2019, if it's date, then there are 3 articles. For simplification, I will use date as the publishing date."
   ]
  },
  {
   "cell_type": "code",
   "execution_count": null,
   "id": "15115140-f22f-4c96-be14-0b6af94d6d33",
   "metadata": {},
   "outputs": [],
   "source": [
    "collection.delete_many({'date': {'$lt': 'year 2019, month 1, day 1, hour 1, minute 0'}})"
   ]
  },
  {
   "cell_type": "markdown",
   "id": "529fa7f8-88f8-43f2-a79e-6935a71f9bc6",
   "metadata": {},
   "source": [
    "#### 3: How many paper have a single author ? Two authors ?"
   ]
  },
  {
   "cell_type": "code",
   "execution_count": null,
   "id": "ab80f300-e0d2-46ce-84b1-51ddb5a5ec17",
   "metadata": {},
   "outputs": [],
   "source": [
    "# Define the regular expression pattern to match \"name\" followed by a word boundary\n",
    "pattern = r\"\\bname\\b\"\n",
    "\n",
    "# Count the occurrences of the pattern in the authors field\n",
    "one_author = collection.find({\"authors\": {\"$regex\": pattern, \"$options\": \"m\"}})\n",
    "\n",
    "# Filter documents with exactly one occurrence of the pattern\n",
    "articles_with_one = 0\n",
    "articles_with_two = 0\n",
    "for one in one_author:\n",
    "    if one[\"authors\"].count(\"name\") == 1:\n",
    "        articles_with_one +=1\n",
    "    elif one[\"authors\"].count(\"name\") == 2:\n",
    "        articles_with_two += 1\n",
    "\n",
    "print(\"papers with one author:\", articles_with_one)\n",
    "print(\"papers with two authors:\", articles_with_two) \n",
    "\n",
    "\n"
   ]
  },
  {
   "cell_type": "markdown",
   "id": "bf72d819-9335-4074-9901-6dec4f20fd4e",
   "metadata": {},
   "source": [
    "#### 4: What's the last paper inserted in the db ?"
   ]
  },
  {
   "cell_type": "code",
   "execution_count": null,
   "id": "be844a53-8469-4ae8-9ce2-a90c598c7793",
   "metadata": {},
   "outputs": [],
   "source": [
    "last_paper = collection.find_one(sort=[('_id', -1)])\n",
    "\n",
    "# Afficher les détails du dernier document\n",
    "print(\"Dernier document inséré :\")\n",
    "print(\"Titre :\", last_paper['title'])\n",
    "print(\"Auteurs :\", last_paper['authors'])\n",
    "print(\"Date :\", last_paper['date'])"
   ]
  },
  {
   "cell_type": "markdown",
   "id": "c8966464-4d12-47fd-be47-bf839512ee91",
   "metadata": {},
   "source": [
    "#### 5: Find articles with null meshwords."
   ]
  },
  {
   "cell_type": "code",
   "execution_count": null,
   "id": "0a8badf8-1c97-4885-987b-20bf9c853623",
   "metadata": {},
   "outputs": [],
   "source": [
    "import pymongo\n",
    "\n",
    "client = pymongo.MongoClient(\"mongodb://localhost:27017/\")\n",
    "db = client[\"exercise\"]  # Replace \"your_database_name\" with your actual database name\n",
    "collection = db[\"pubmed_articles\"]  # Collection to store PubMed articles\n",
    "\n",
    "query = {\"meshwords\": {\"$in\": [None, \"\"]}}\n",
    "articles_with_null_meshwords = collection.find(query)\n",
    "\n",
    "# Affichage des résultats de la recherche\n",
    "print(\"Articles with null meshwords:\\n\")\n",
    "for article in articles_with_null_meshwords:\n",
    "    print(article['title'])\n",
    "    print(article[\"meshwords\"])"
   ]
  },
  {
   "cell_type": "markdown",
   "id": "97b53192-e3a9-4819-a66c-77a441568bcd",
   "metadata": {},
   "source": [
    "#### 6: Choose a keyword you are interested in (machine learning, computer vision,...). Find the number of articles with the choosen keyword in their meshwords, abstract or title."
   ]
  },
  {
   "cell_type": "code",
   "execution_count": null,
   "id": "76759037-f2ad-4f14-b524-017314be5b87",
   "metadata": {},
   "outputs": [],
   "source": [
    "from pymongo import MongoClient\n",
    "\n",
    "keyword = \"machine learning\"\n",
    "\n",
    "# Compter le nombre d'articles contenant le mot-clé dans les meshwords, le titre ou l'abstract\n",
    "nombre_articles = collection.count_documents({\n",
    "    \"$or\": [\n",
    "        {\"meshwords\": {\"$regex\": f\".*{keyword}.*\", \"$options\": \"i\"}},\n",
    "        {\"abstract\": {\"$regex\": f\".*{keyword}.*\", \"$options\": \"i\"}},\n",
    "        {\"title\": {\"$regex\": f\".*{keyword}.*\", \"$options\": \"i\"}}\n",
    "    ]\n",
    "})\n",
    "\n",
    "print(f\"Nombre d'articles avec le mot-clé '{keyword}': {nombre_articles}\")"
   ]
  },
  {
   "cell_type": "markdown",
   "id": "b951afff-d0b5-425b-b415-88b73994d108",
   "metadata": {},
   "source": [
    "#### 7: What's the number of articles that have atleast one affiliation AND meshwords."
   ]
  },
  {
   "cell_type": "code",
   "execution_count": null,
   "id": "b48312e4-8490-4c9e-96a8-eddab1e2fd53",
   "metadata": {},
   "outputs": [],
   "source": [
    "count = collection.count_documents({\n",
    "    \"$and\": [\n",
    "        {\"affiliations\": {\"$exists\": True}},\n",
    "        {\"meshwords\": {\"$exists\": True}}\n",
    "    ]\n",
    "})\n",
    "\n",
    "print(f\"Nombre d'articles avec au moins une affiliation et des meshwords: {count}\")"
   ]
  },
  {
   "cell_type": "markdown",
   "id": "401e8636-d774-4d2b-a1e3-818b9dd0b8f3",
   "metadata": {},
   "source": [
    "#### 8: How many articles have a publishing date after 2020 ?"
   ]
  },
  {
   "cell_type": "code",
   "execution_count": null,
   "id": "962747e6-b416-4477-99d9-47ed974ad45f",
   "metadata": {},
   "outputs": [],
   "source": [
    "import pymongo\n",
    "\n",
    "client = pymongo.MongoClient(\"mongodb://localhost:27017/\")\n",
    "db = client[\"exercise\"]  # Replace \"your_database_name\" with your actual database name\n",
    "collection = db[\"pubmed_articles\"]  # Collection to store PubMed articles\n",
    "\n",
    "print(collection.count_documents({'date': {'$gt': 'year 2020'}}))"
   ]
  },
  {
   "cell_type": "markdown",
   "id": "4ae85414-0f6c-4572-b54b-e78f82e21ab5",
   "metadata": {},
   "source": [
    "#### 9: Find articles where there's atleast one affiliation from a choosen country (you decide which one)."
   ]
  },
  {
   "cell_type": "code",
   "execution_count": null,
   "id": "7b8e0ea8-700e-42b4-ae49-368a5f096ec5",
   "metadata": {},
   "outputs": [],
   "source": [
    "article_count = collection.count_documents({\n",
    "    \"authors\": {\"$regex\": \"France\"}})\n",
    "print(\"Number of articles with at least one affiliation from France:\", article_count)\n",
    "article_country= collection.find({\"authors\":{\"$regex\": \"France\"}})\n",
    "for article in article_country:\n",
    "    print(\"ID:\", article[\"_id\"],\"Title :\", article[\"title\"])"
   ]
  },
  {
   "cell_type": "markdown",
   "id": "278f9179-41ed-4bbe-84ff-cd2518bf3f40",
   "metadata": {},
   "source": [
    "#### 10: Check for any duplicates. (hint: look at the doi or the pmid)"
   ]
  },
  {
   "cell_type": "code",
   "execution_count": null,
   "id": "3e6c84da-7aa6-4650-9b9e-c00c60582e53",
   "metadata": {},
   "outputs": [],
   "source": [
    "# Vérifier s'il y a des doublons\n",
    "\n",
    "distinct_pmids = collection.distinct(\"pmid\")\n",
    "\n",
    "# Vérifier s'il y a des doublons\n",
    "duplicates = len(distinct_pmids) - collection.count_documents({})\n",
    "\n",
    "print(\"Number of duplicates:\",duplicates)"
   ]
  },
  {
   "cell_type": "markdown",
   "id": "3b336408-5dd1-4cd5-9552-bd4631936d8c",
   "metadata": {},
   "source": [
    "#### 11: Remove every articles where the abstract starts with an \"R\"."
   ]
  },
  {
   "cell_type": "code",
   "execution_count": null,
   "id": "392059db-b0fd-4301-bc27-a5705799f1b5",
   "metadata": {},
   "outputs": [],
   "source": [
    "docs = collection.find({\"abstract\": {\"$regex\": \"^\\\\s*\\\"R\"}})\n",
    "for doc in docs:\n",
    "    print(\"title :\", doc[\"title\"])\n",
    "    print(\"abstract :\", doc[\"abstract\"])\n",
    "\n"
   ]
  },
  {
   "cell_type": "code",
   "execution_count": null,
   "id": "04b2568b-c39c-459d-9e6e-1d363f397cbd",
   "metadata": {},
   "outputs": [],
   "source": [
    "print(\"init count: \",collection.count_documents({\"abstract\": {\"$regex\": \"^\\\\s*\\\"R\"}}))"
   ]
  },
  {
   "cell_type": "code",
   "execution_count": null,
   "id": "773a5320-ac72-4fb2-ab17-b740122ca9ea",
   "metadata": {},
   "outputs": [],
   "source": [
    "collection.delete_many({\"abstract\": {\"$regex\": \"^\\\\s*\\\"R\"}})\n",
    "print(\"after delete many: \",collection.count_documents({\"abstract\": {\"$regex\": \"^\\\\s*\\\"R\"}}))"
   ]
  },
  {
   "cell_type": "markdown",
   "id": "f342c1c3-d5f1-4f2e-b992-f8aaa040d7fe",
   "metadata": {},
   "source": [
    "#### 12: Return the list of papers (pmid) where there's atleast one affiliation per author"
   ]
  },
  {
   "cell_type": "code",
   "execution_count": null,
   "id": "2446961f-e30a-4067-8944-7b631070f283",
   "metadata": {},
   "outputs": [],
   "source": [
    "#Retourne la liste des articles (pmid) où chaque auteur a au moins une affiliation\n",
    "articles = collection.find(\n",
    "    {\"authors\": {\"$exists\": True}}\n",
    ")\n",
    "liste_articles = [article[\"pmid\"] for article in articles if len(article.get(\"authors\", [])) > 0]\n",
    "print(liste_articles[0:10])"
   ]
  },
  {
   "cell_type": "markdown",
   "id": "81fe063a-d1eb-4101-8b60-90ba2dac3947",
   "metadata": {},
   "source": [
    "#### 13: Create 500 random samples of the dataset, compute a statistics that you are interested in and check how it behaves through the different samples"
   ]
  },
  {
   "cell_type": "code",
   "execution_count": null,
   "id": "adddc669-da5a-4d47-8671-1672b6f31faf",
   "metadata": {},
   "outputs": [],
   "source": [
    "\n",
    "num_samples = 500\n",
    "\n",
    "#Définir la statistique d'intérêt\n",
    "statistics = []\n",
    "\n",
    "#Échantillonner et calculer la statistique pour chaque échantillon\n",
    "for i in range(num_samples):\n",
    "    #Échantillonner des documents aléatoirement à partir de la collection\n",
    "    sample = collection.aggregate([\n",
    "        {\"$sample\": {\"size\": 100}}  #Ajuster la taille de l'échantillon au besoin\n",
    "    ])\n",
    "\n",
    "    # Calculer la statistique d'intérêt pour l'échantillon\n",
    "    # Ici, nous calculons la taille d'équipe moyenne\n",
    "    team_sizes = [doc.get(\"team_size\", 0) for doc in sample]\n",
    "    average_team_size = sum(team_sizes) / len(team_sizes)\n",
    "    \n",
    "    # Ajouter la statistique calculée à la liste\n",
    "    statistics.append(average_team_size)\n",
    "\n",
    "#Afficher les statistiques\n",
    "print(statistics)"
   ]
  },
  {
   "cell_type": "markdown",
   "id": "dfb27f01-365c-48f0-b96d-758dad7c1a72",
   "metadata": {},
   "source": [
    "### Real World application 2"
   ]
  },
  {
   "cell_type": "code",
   "execution_count": null,
   "id": "19bd4b50-d40c-48fc-8ce8-47ac38421ec9",
   "metadata": {},
   "outputs": [],
   "source": [
    "import pymongo\n",
    "import zipfile\n",
    "import json\n",
    "from bson import ObjectId\n",
    "# Connect to MongoDB\n",
    "client = pymongo.MongoClient(\"mongodb://localhost:27017/\")\n",
    "db = client[\"exercise\"]  # Replace \"your_database_name\" with your actual database name\n",
    "collection = db[\"authors\"] \n",
    "\n",
    "with open(\"C:/Users/user/OneDrive/Documents/M1-APE-DS2E/Infrastructure_de_donnes/NoSQL/authors.json\", \"r\",encoding=\"utf-8\") as file:\n",
    "    data = json.load(file)\n",
    "for doc in data:\n",
    "    if '_id' in doc and '$oid' in doc['_id']:\n",
    "        doc['_id'] = ObjectId(doc['_id']['$oid'])\n",
    "\n",
    "collection.insert_many(data)"
   ]
  },
  {
   "cell_type": "markdown",
   "id": "552afb52-1214-4e4b-9873-d7eab65fe21a",
   "metadata": {},
   "source": [
    "#### 1: Create an index, explain your choice of key."
   ]
  },
  {
   "cell_type": "code",
   "execution_count": null,
   "id": "b03d3e21-eed4-4028-89d0-3086734c13c7",
   "metadata": {},
   "outputs": [],
   "source": [
    "collection.create_index([ (\"AND_ID\",1) ])"
   ]
  },
  {
   "cell_type": "markdown",
   "id": "e0bd1132-c11a-4364-8eb7-72631df69ce7",
   "metadata": {},
   "source": [
    "AND_ID represents a unique disambiguated identifier for the author, so it makes a useful index."
   ]
  },
  {
   "cell_type": "markdown",
   "id": "539c77b1-1b51-4805-bcfe-c0e8141da3a1",
   "metadata": {},
   "source": [
    "#### 2: What is the average length of \"pmid_list\""
   ]
  },
  {
   "cell_type": "code",
   "execution_count": null,
   "id": "f05cee8e-3133-4444-ab0f-6518e2514126",
   "metadata": {},
   "outputs": [],
   "source": [
    "total_length = 0\n",
    "total_docs = len(data)\n",
    "\n",
    "for doc in data:\n",
    "    pmid_list_length = len(doc.get(\"pmid_list\", []))\n",
    "    total_length += pmid_list_length\n",
    "\n",
    "average_length = total_length / total_docs\n",
    "print(\"Average length of 'pmid_list':\", int(average_length))\n"
   ]
  },
  {
   "cell_type": "markdown",
   "id": "02a25271-761a-4ef7-83a8-b5c26254a95d",
   "metadata": {},
   "source": [
    "#### 3: How many distinct affiliations are there ?"
   ]
  },
  {
   "cell_type": "code",
   "execution_count": null,
   "id": "78a70074-403b-478d-bbbe-99ae6088a972",
   "metadata": {},
   "outputs": [],
   "source": [
    "distinct_affiliations = set()\n",
    "\n",
    "for doc in data:\n",
    "    affiliations = doc.get(\"oa04_affiliations\", [])\n",
    "    for affiliation_info in affiliations:\n",
    "        affiliation = affiliation_info.get(\"Affiliation\")\n",
    "        if affiliation:\n",
    "            distinct_affiliations.add(affiliation)\n",
    "\n",
    "distinct_count = len(distinct_affiliations)\n",
    "print(\"Number of distinct affiliations:\", distinct_count)"
   ]
  },
  {
   "cell_type": "markdown",
   "id": "acfc73ed-e02b-4717-94b6-9a552c6023ec",
   "metadata": {},
   "source": [
    "#### 4: Find authors with atleast one \"COM\" AffiliationType"
   ]
  },
  {
   "cell_type": "code",
   "execution_count": null,
   "id": "6a62e77b-cfad-42d3-9dda-da5d9dc3791f",
   "metadata": {},
   "outputs": [],
   "source": [
    "authors_with_com_affiliation = []\n",
    "\n",
    "for doc in data:\n",
    "    affiliations = doc.get(\"oa04_affiliations\", [])\n",
    "    for affiliation_info in affiliations:\n",
    "        affiliation_type = affiliation_info.get(\"AffiliationType\")\n",
    "        if affiliation_type == \"COM\":\n",
    "            authors_with_com_affiliation.append(doc[\"AND_ID\"])\n",
    "            break  # Exit inner loop once we find one COM affiliation for this author\n",
    "\n",
    "# Remove duplicate author names (if any)\n",
    "authors_with_com_affiliation = list(set(authors_with_com_affiliation))\n",
    "\n",
    "print(\"Authors with at least one 'COM' AffiliationType:\",len(authors_with_com_affiliation))\n",
    "\n",
    "print(\"\\nAuthors' AND_ID:\\n\\n\",authors_with_com_affiliation)"
   ]
  },
  {
   "cell_type": "markdown",
   "id": "f0fcd8ac-ac25-4536-87a8-6e12107b1611",
   "metadata": {},
   "source": [
    "#### 5: How many authors switched the AffiliationType ?"
   ]
  },
  {
   "cell_type": "code",
   "execution_count": null,
   "id": "3719eb5c-0cfd-499a-93e9-4f934312e824",
   "metadata": {},
   "outputs": [],
   "source": [
    "authors_switched_affiliation = []\n",
    "\n",
    "for doc in data:\n",
    "    affiliation_types = []\n",
    "    affiliations = doc.get(\"oa04_affiliations\", [])\n",
    "    for affiliation_info in affiliations:\n",
    "        affiliation_type = affiliation_info.get(\"AffiliationType\", \"\")\n",
    "        affiliation_types.append(affiliation_type)\n",
    "    if len(affiliation_types) > 1:\n",
    "        authors_switched_affiliation.append(doc.get(\"AND_ID\"))\n",
    "\n",
    "num_authors_switched_affiliation = len(authors_switched_affiliation)\n",
    "\n",
    "print(\"Number of authors who switched AffiliationType:\", num_authors_switched_affiliation)\n",
    "print(\"\\nAND_ID of authors who switched AffiliationType:\\n\\n\",authors_switched_affiliation)"
   ]
  },
  {
   "cell_type": "markdown",
   "id": "ef3e9e2b-4c44-43c9-9710-52b5ff69f9b2",
   "metadata": {},
   "source": [
    "#### 6: Find affiliation with the word \"China\""
   ]
  },
  {
   "cell_type": "code",
   "execution_count": null,
   "id": "d334d547-e7c4-42e6-a53b-0b3e6febda96",
   "metadata": {},
   "outputs": [],
   "source": [
    "num_affiliations_with_china = 0\n",
    "affiliations_in_china = []\n",
    "\n",
    "for doc in data:\n",
    "    affiliations = doc.get(\"oa04_affiliations\", [])\n",
    "    for affiliation_info in affiliations:\n",
    "        country = affiliation_info.get(\"Country\", \"\")\n",
    "        if \"China\" in country:\n",
    "            num_affiliations_with_china += 1\n",
    "            affiliation = affiliation_info.get(\"Affiliation\", \"\")\n",
    "            affiliations_in_china.append(affiliation)\n",
    "\n",
    "# Print the total number of affiliations with China\n",
    "print(\"Total number of affiliations with China:\", num_affiliations_with_china)\n",
    "\n",
    "# Print the list of affiliations in China\n",
    "print(\"\\nList of affiliations in China:\\n\\n\")\n",
    "for affiliation in affiliations_in_china:\n",
    "    print('-',affiliation)"
   ]
  },
  {
   "cell_type": "markdown",
   "id": "9024d576-8fb9-42ee-ab38-c1fb820df5c7",
   "metadata": {},
   "source": [
    "#### 7: Get the pmids of papers published in 2019"
   ]
  },
  {
   "cell_type": "code",
   "execution_count": null,
   "id": "abe1cd3a-8125-498a-b6b6-5bd32eb40b6b",
   "metadata": {},
   "outputs": [],
   "source": [
    "num_papers_2019 = 0\n",
    "pmid_list = []\n",
    "\n",
    "for doc in data:\n",
    "    more_info = doc.get(\"more_info\", [])\n",
    "    for info in more_info:\n",
    "        pub_year = info.get(\"PubYear\", \"\")\n",
    "        pmid = info.get(\"PMID\", \"\")\n",
    "        if pub_year == 2019:\n",
    "            num_papers_2019 += 1\n",
    "            pmid_list.append(pmid)\n",
    "\n",
    "print(\"Number of papers published in 2019:\", num_papers_2019)\n",
    "print(\"\\nList of PMIDs:\\n\\n\",pmid_list)"
   ]
  },
  {
   "cell_type": "markdown",
   "id": "3a168201-de62-43c9-aaa2-692381013448",
   "metadata": {},
   "source": [
    "#### 8: Count the number of doc with \"oa06_researcher_education\" OR \"oa04_affiliations\" key and with the \"oa06_researcher_education\" AND \"oa04_affiliations\" ."
   ]
  },
  {
   "cell_type": "code",
   "execution_count": null,
   "id": "5ab29830-c02b-4216-bfa5-7e22561f9623",
   "metadata": {},
   "outputs": [],
   "source": [
    "count_with_any = 0\n",
    "count_with_both = 0\n",
    "\n",
    "for doc in data:\n",
    "    # Check if \"oa06_researcher_education\" key exists\n",
    "    if \"oa06_researcher_education\" or \"oa04_affiliations\" in doc:\n",
    "        count_with_any += 1\n",
    "        \n",
    "    # Check if both keys exist\n",
    "    if \"oa06_researcher_education\" in doc and \"oa04_affiliations\" in doc:\n",
    "        count_with_both += 1\n",
    "\n",
    "print(\"Number of documents with any key:\", count_with_any)\n",
    "print(\"Number of documents with both keys:\", count_with_both)\n"
   ]
  },
  {
   "cell_type": "markdown",
   "id": "4de434dc-8926-4fbb-b0a7-74a318151c7b",
   "metadata": {},
   "source": [
    "#### 9: What's the average \"BeginYear\" of \"oa06_researcher_education\"."
   ]
  },
  {
   "cell_type": "code",
   "execution_count": null,
   "id": "3893719b-d374-4d45-870a-db3e8936270c",
   "metadata": {},
   "outputs": [],
   "source": [
    "total_begin_years = []\n",
    "num_papers_with_oa06 = 0\n",
    "\n",
    "for doc in data:\n",
    "    if \"oa06_researcher_education\" in doc:\n",
    "        for entry in doc[\"oa06_researcher_education\"]:\n",
    "            begin_year = entry.get(\"BeginYear\")\n",
    "            if begin_year is not None and begin_year != ' ':\n",
    "                total_begin_years.append(begin_year)  # Convert to integer\n",
    "                num_papers_with_oa06 += 1\n",
    "\n",
    "total_begin_years_int = [int(year) for year in total_begin_years]\n",
    "\n",
    "# Calculate the sum of the integers\n",
    "average = sum(total_begin_years_int)/num_papers_with_oa06\n",
    "\n",
    "print(\"Average 'BeginYear' of  'oa06_researcher_education'\", int(average))\n"
   ]
  },
  {
   "cell_type": "markdown",
   "id": "a4632238-01d0-458c-b8a9-3a529cab72c8",
   "metadata": {},
   "source": [
    "#### 10: Count the distinct country of \"oa06_researcher_education\""
   ]
  },
  {
   "cell_type": "code",
   "execution_count": null,
   "id": "553b6224-1487-4c31-bf25-044d83a01355",
   "metadata": {},
   "outputs": [],
   "source": [
    "distinct_countries = collection.distinct(\"oa06_researcher_education.Country\")\n",
    "\n",
    "num_distinct_countries = len(distinct_countries)\n",
    "\n",
    "print(\"Number of distinct countries in oa06_researcher_education:\", num_distinct_countries)\n",
    "print(\"Distinct countries:\")\n",
    "for country in distinct_countries:\n",
    "    print(country)\n"
   ]
  },
  {
   "cell_type": "markdown",
   "id": "963b862c-9db3-4e0e-8a78-9ae220396e94",
   "metadata": {},
   "source": [
    "#### 11: Does the length of pmid_list and more_info always match ?"
   ]
  },
  {
   "cell_type": "code",
   "execution_count": null,
   "id": "97ddb3af-3c53-4009-ac98-dab62b662af2",
   "metadata": {},
   "outputs": [],
   "source": [
    "total_documents = collection.count_documents({})\n",
    "\n",
    "# Counters for documents where lengths match and don't match\n",
    "match_counter = 0\n",
    "not_match_counter = 0\n",
    "\n",
    "# Iterate over each document in the collection\n",
    "for doc in collection.find():\n",
    "    pmid_list_length = len(doc.get(\"pmid_list\", []))  # Get length of pmid_list, default to empty list if not present\n",
    "    more_info_length = len(doc.get(\"more_info\", []))  # Get length of more_info, default to empty list if not present\n",
    "    \n",
    "    # Check if the lengths match\n",
    "    if pmid_list_length == more_info_length:\n",
    "        match_counter += 1\n",
    "    else:\n",
    "        not_match_counter += 1\n",
    "\n",
    "# Calculate percentages\n",
    "match_percentage = (match_counter / total_documents) * 100\n",
    "not_match_percentage = (not_match_counter / total_documents) * 100\n",
    "\n",
    "# Print percentages\n",
    "print(\"Percentage of documents where lengths match:\", match_percentage)\n",
    "print(\"Percentage of documents where lengths don't match:\", not_match_percentage)\n"
   ]
  },
  {
   "cell_type": "markdown",
   "id": "472b0f92-eee8-4b36-9be8-9c2ac151c859",
   "metadata": {},
   "source": [
    "#### 12: Does the length of pmid_list and \"oa04_affiliations\" always match ?"
   ]
  },
  {
   "cell_type": "code",
   "execution_count": null,
   "id": "9db4af93-1e14-4802-bf83-e19da8bedb77",
   "metadata": {},
   "outputs": [],
   "source": [
    "total_documents = collection.count_documents({})\n",
    "\n",
    "# Counters for documents where lengths match and don't match\n",
    "match_counter = 0\n",
    "not_match_counter = 0\n",
    "\n",
    "# Iterate over each document in the collection\n",
    "for doc in collection.find():\n",
    "    pmid_list_length = len(doc.get(\"pmid_list\", []))  # Get length of pmid_list, default to empty list if not present\n",
    "    oa04_affiliations_length = len(doc.get(\"oa04_affiliations\", []))  # Get length of more_info, default to empty list if not present\n",
    "    \n",
    "    # Check if the lengths match\n",
    "    if pmid_list_length == oa04_affiliations_length:\n",
    "        match_counter += 1\n",
    "    else:\n",
    "        not_match_counter += 1\n",
    "\n",
    "# Calculate percentages\n",
    "match_percentage = (match_counter / total_documents) * 100\n",
    "not_match_percentage = (not_match_counter / total_documents) * 100\n",
    "\n",
    "# Print percentages\n",
    "print(\"Percentage of documents where lengths match:\", match_percentage)\n",
    "print(\"Percentage of documents where lengths don't match:\", not_match_percentage)\n"
   ]
  }
 ],
 "metadata": {
  "kernelspec": {
   "display_name": "Python 3 (ipykernel)",
   "language": "python",
   "name": "python3"
  },
  "language_info": {
   "codemirror_mode": {
    "name": "ipython",
    "version": 3
   },
   "file_extension": ".py",
   "mimetype": "text/x-python",
   "name": "python",
   "nbconvert_exporter": "python",
   "pygments_lexer": "ipython3",
   "version": "3.12.2"
  }
 },
 "nbformat": 4,
 "nbformat_minor": 5
}
