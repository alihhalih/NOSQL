{
 "cells": [
  {
   "cell_type": "markdown",
   "id": "bc16f6fc-d7a9-4138-9414-bc7235a77136",
   "metadata": {},
   "source": [
    "# Exercises\n",
    "### CRUD operations:\n",
    "#### 1: You will continue to work on the MCU network for a while. Who are the 10 fastest in the MCU ? Are they related to each other ?"
   ]
  },
  {
   "cell_type": "code",
   "execution_count": 55,
   "id": "3a74aaaa-c63c-427e-b84e-eddd25a2033a",
   "metadata": {},
   "outputs": [
    {
     "name": "stdout",
     "output_type": "stream",
     "text": [
      "'Black Bolt'\t100\n",
      "'Stardust'\t100\n",
      "'Quicksilver'\t100\n",
      "'Nova'\t100\n",
      "'Thor'\t92\n",
      "'Silver Surfer'\t84\n",
      "'Galactus'\t83\n",
      "'Dormammu'\t83\n",
      "'Ego'\t83\n",
      "'Northstar'\t83\n"
     ]
    }
   ],
   "source": [
    "import py2neo\n",
    "graph = py2neo.Graph(\"bolt://localhost:7687\", auth=(\"neo4j\", \"password_tuts\"), name=\"mcu1\")\n",
    "\n",
    "query = \"\"\"MATCH (n:Superhero)\n",
    "WHERE (n.Speed) IS NOT NULL\n",
    "RETURN n.name, n.Speed\n",
    "ORDER BY n.Speed DESC\n",
    "LIMIT 10\"\"\"\n",
    "\n",
    "results = graph.run(query)\n",
    "\n",
    "for record in results:\n",
    "    print(record)"
   ]
  },
  {
   "cell_type": "code",
   "execution_count": 56,
   "id": "4ab7a5d0-a9cc-4966-9553-87f0ffef16df",
   "metadata": {},
   "outputs": [
    {
     "name": "stdout",
     "output_type": "stream",
     "text": [
      "'Ego'\t'Galactus'\n",
      "'Dormammu'\t'Galactus'\n",
      "'Black Bolt'\t'Galactus'\n",
      "'Northstar'\t'Galactus'\n",
      "'Nova'\t'Galactus'\n",
      "'Stardust'\t'Galactus'\n",
      "'Silver Surfer'\t'Galactus'\n",
      "'Quicksilver'\t'Galactus'\n",
      "'Thor'\t'Galactus'\n",
      "'Ego'\t'Silver Surfer'\n",
      "'Nova'\t'Silver Surfer'\n",
      "'Quicksilver'\t'Silver Surfer'\n",
      "'Black Bolt'\t'Silver Surfer'\n",
      "'Galactus'\t'Silver Surfer'\n",
      "'Dormammu'\t'Silver Surfer'\n",
      "'Stardust'\t'Silver Surfer'\n",
      "'Thor'\t'Silver Surfer'\n",
      "'Northstar'\t'Thor'\n",
      "'Ego'\t'Thor'\n",
      "'Silver Surfer'\t'Thor'\n",
      "'Nova'\t'Thor'\n",
      "'Black Bolt'\t'Thor'\n",
      "'Galactus'\t'Thor'\n",
      "'Quicksilver'\t'Thor'\n",
      "'Dormammu'\t'Thor'\n",
      "'Dormammu'\t'Quicksilver'\n",
      "'Ego'\t'Quicksilver'\n",
      "'Nova'\t'Quicksilver'\n",
      "'Galactus'\t'Quicksilver'\n",
      "'Black Bolt'\t'Quicksilver'\n",
      "'Northstar'\t'Quicksilver'\n",
      "'Silver Surfer'\t'Quicksilver'\n",
      "'Thor'\t'Quicksilver'\n",
      "'Quicksilver'\t'Dormammu'\n",
      "'Galactus'\t'Dormammu'\n",
      "'Thor'\t'Dormammu'\n",
      "'Silver Surfer'\t'Dormammu'\n",
      "'Galactus'\t'Ego'\n",
      "'Thor'\t'Ego'\n",
      "'Nova'\t'Ego'\n",
      "'Silver Surfer'\t'Ego'\n",
      "'Quicksilver'\t'Ego'\n",
      "'Black Bolt'\t'Nova'\n",
      "'Ego'\t'Nova'\n",
      "'Galactus'\t'Nova'\n",
      "'Silver Surfer'\t'Nova'\n",
      "'Quicksilver'\t'Nova'\n",
      "'Thor'\t'Nova'\n",
      "'Nova'\t'Black Bolt'\n",
      "'Galactus'\t'Black Bolt'\n",
      "'Quicksilver'\t'Black Bolt'\n",
      "'Thor'\t'Black Bolt'\n",
      "'Silver Surfer'\t'Black Bolt'\n",
      "'Galactus'\t'Northstar'\n",
      "'Thor'\t'Northstar'\n",
      "'Quicksilver'\t'Northstar'\n",
      "'Silver Surfer'\t'Stardust'\n",
      "'Galactus'\t'Stardust'\n"
     ]
    }
   ],
   "source": [
    "import py2neo\n",
    "graph = py2neo.Graph(\"bolt://localhost:7687\", auth=(\"neo4j\", \"password_tuts\"), name=\"mcu\")\n",
    "\n",
    "query = \"\"\"MATCH (n:Superhero)-[r]-(m:Superhero)\n",
    "WHERE n.name IN ['Black Bolt', 'Stardust', 'Quicksilver', 'Nova', 'Thor', 'Silver Surfer', 'Galactus', 'Dormammu', 'Ego', 'Northstar']\n",
    "AND m.name IN ['Black Bolt', 'Stardust', 'Quicksilver', 'Nova', 'Thor', 'Silver Surfer', 'Galactus', 'Dormammu', 'Ego', 'Northstar']\n",
    "RETURN n.name, m.name\"\"\"\n",
    "\n",
    "results = graph.run(query)\n",
    "\n",
    "for record in results:\n",
    "    print(record)\n"
   ]
  },
  {
   "cell_type": "markdown",
   "id": "bd12e6b8-24bd-4287-b446-d23b5cebb809",
   "metadata": {},
   "source": [
    "#### 2: How many have collaborated atleast more than 10 times with another superhero?"
   ]
  },
  {
   "cell_type": "code",
   "execution_count": 57,
   "id": "07fc65eb-c6bb-4bdf-94ee-0feddf472cf4",
   "metadata": {},
   "outputs": [
    {
     "name": "stdout",
     "output_type": "stream",
     "text": [
      "565 superheros have collaborated atleast more than 10 times with another superhero\n"
     ]
    }
   ],
   "source": [
    "import py2neo\n",
    "graph = py2neo.Graph(\"bolt://localhost:7687\", auth=(\"neo4j\", \"password_tuts\"), name=\"mcu\")\n",
    "\n",
    "query = \"\"\"MATCH (a:Superhero)-[r:RELATION]-(b:Superhero)\n",
    "WHERE r.n_collab >= 10\n",
    "WITH a\n",
    "MATCH (a)-[r:RELATION]-(b:Superhero)\n",
    "WHERE r.n_collab >= 10\n",
    "RETURN COUNT(DISTINCT a)\"\"\"\n",
    "\n",
    "result = graph.run(query).evaluate()\n",
    "print(f\"{result} superheros have collaborated atleast more than 10 times with another superhero\")\n"
   ]
  },
  {
   "cell_type": "markdown",
   "id": "7971ead0-a6d8-4864-a0f0-1960e9d9df92",
   "metadata": {},
   "source": [
    "#### 3:  Did the weakest of the MCU collaborated with the strongest ?"
   ]
  },
  {
   "cell_type": "code",
   "execution_count": 67,
   "id": "ef9dee27-8226-4d2e-82a8-3d3021bcd554",
   "metadata": {},
   "outputs": [
    {
     "name": "stdout",
     "output_type": "stream",
     "text": [
      "Weakest of the MCU: Lady Deathstrike\n",
      "Strongest of the MCU Stardust \n",
      "\n",
      "Lady Deathstrike n'a pas collaboré avec Stardust\n"
     ]
    }
   ],
   "source": [
    "import py2neo\n",
    "graph = py2neo.Graph(\"bolt://localhost:7687\", auth=(\"neo4j\", \"password_tuts\"), name=\"mcu1\")\n",
    "\n",
    "query_weakest = \"\"\"MATCH (n:Superhero)\n",
    "WHERE (n.Total) IS NOT NULL\n",
    "RETURN n.name\n",
    "ORDER BY n.Total\n",
    "LIMIT 1\"\"\"\n",
    "result_weakest = graph.run(query_weakest).evaluate()\n",
    "print(\"Weakest of the MCU:\",result_weakest)\n",
    "\n",
    "query_strongest = \"\"\"MATCH (n:Superhero)\n",
    "WHERE (n.Total) IS NOT NULL\n",
    "RETURN n.name\n",
    "ORDER BY n.Total DESC\n",
    "LIMIT 1\"\"\"\n",
    "result_strongest = graph.run(query_strongest).evaluate()\n",
    "print(\"Strongest of the MCU:\",result_strongest,\"\\n\")\n",
    "\n",
    "query_relation = f\"\"\"MATCH (a:Superhero {{name: \"{result_weakest}\"}})-[r:RELATION]-(b:Superhero {{name: \"{result_strongest}\"}})\n",
    "RETURN COUNT(r)\"\"\"\n",
    "result_relation = graph.run(query_relation).evaluate()\n",
    "\n",
    "if result_relation > 0:\n",
    "    print(f\"{result_weakest} a collaboré avec {result_strongest}\")\n",
    "else:\n",
    "    print(f\"{result_weakest} n'a pas collaboré avec {result_strongest}\")\n"
   ]
  },
  {
   "cell_type": "markdown",
   "id": "269fdebf-ad6e-4485-8135-ac1ccb832918",
   "metadata": {},
   "source": [
    "#### 5: Create a new db called \"master\". Create a graph from the M1 class with name and random age between 20 and 30, Group of 3 that collab (undirected relation)."
   ]
  },
  {
   "cell_type": "code",
   "execution_count": 47,
   "id": "5c6d8f15-7f73-4d86-9ac8-8c21cef97966",
   "metadata": {},
   "outputs": [],
   "source": [
    "import py2neo\n",
    "import random\n",
    "from faker import Faker\n",
    "\n",
    "graph = py2neo.Graph(\"bolt://localhost:7687\", auth=(\"neo4j\", \"password_tuts\"), name=\"master\")\n",
    "\n",
    "\n",
    "noms = [Faker().first_name() for _ in range(9)]\n",
    "personnes = [py2neo.Node(\"M1\", name=nom, age=random.randint(20, 30)) for nom in noms]\n",
    "\n",
    "for personne in personnes:\n",
    "    graph.create(personne)\n",
    "\n",
    "groupes = []\n",
    "while len(personnes) >= 3:\n",
    "    groupe = random.sample(personnes, 3)\n",
    "    groupes.append(groupe)\n",
    "    for personne in groupe:\n",
    "        personnes.remove(personne)\n",
    "\n",
    "for groupe in groupes:\n",
    "    for i, j in zip(groupe, groupe[1:] + [groupe[0]]):\n",
    "        relation = py2neo.Relationship(i, \"collab\", j)\n",
    "        graph.create(relation)"
   ]
  },
  {
   "cell_type": "markdown",
   "id": "1d78b79c-3c12-46b2-937e-5828e95c8c7e",
   "metadata": {},
   "source": [
    "#### 6: Get the age for people YOU collaborate with.\n",
    "I'm not collaborating with anyone, but for the sake of the exercice, we'll say I'm collaborating with Ruth and Jasmine, and I'm Micheal (I generated random names, so names of classmates as well as mine are not in the database)"
   ]
  },
  {
   "cell_type": "code",
   "execution_count": 50,
   "id": "782ba388-f168-47ca-b96a-39281b335217",
   "metadata": {},
   "outputs": [
    {
     "name": "stdout",
     "output_type": "stream",
     "text": [
      " b.name  | b.age \n",
      "---------|-------\n",
      " Ruth    |    28 \n",
      " Jasmine |    21 \n",
      "\n"
     ]
    }
   ],
   "source": [
    "import py2neo\n",
    "graph = py2neo.Graph(\"bolt://localhost:7687\", auth=(\"neo4j\", \"password_tuts\"), name=\"master\")\n",
    "\n",
    "query = \"\"\"MATCH (a:M1 {name:\"Michael\"})-[:collab]-(b:M1)\n",
    "RETURN b.name, b.age\"\"\"\n",
    "\n",
    "results = graph.run(query)\n",
    "print(results)\n"
   ]
  },
  {
   "cell_type": "markdown",
   "id": "edb9682d-8b83-45c4-a4d6-6b8a070563e7",
   "metadata": {},
   "source": [
    "#### 7: Get nodes with age > 25."
   ]
  },
  {
   "cell_type": "code",
   "execution_count": 51,
   "id": "40cd9fe0-421e-42c6-bf73-1cb22e2396ed",
   "metadata": {},
   "outputs": [
    {
     "name": "stdout",
     "output_type": "stream",
     "text": [
      "      a.name  a.age\n",
      "0          A     29\n",
      "1          D     26\n",
      "2          G     29\n",
      "3          I     27\n",
      "4      Corey     26\n",
      "5  Stephanie     29\n",
      "6     Steven     27\n",
      "7       Ruth     28\n"
     ]
    }
   ],
   "source": [
    "import py2neo\n",
    "graph = py2neo.Graph(\"bolt://localhost:7687\", auth=(\"neo4j\", \"password_tuts\"), name=\"master\")\n",
    "\n",
    "query = \"\"\"MATCH (a:M1)\n",
    "WHERE a.age > 25\n",
    "RETURN a.name, a.age\"\"\"\n",
    "\n",
    "df = graph.run(query).to_data_frame()\n",
    "print(df)"
   ]
  },
  {
   "cell_type": "markdown",
   "id": "ff6a1fae-9faf-4951-94dc-d2d0896ab0d1",
   "metadata": {},
   "source": [
    "# Real World application 4\n",
    "#### Change the database \"neo4j\" to the database \"movie\". Go to the browser and run on the browser console :play movie-graph then copy the queries on the console and run it. Congrats you just imported a brand new sample of data. Answer the following questions with cypher queries."
   ]
  },
  {
   "cell_type": "markdown",
   "id": "8776e170-dcaf-410d-b216-9219af5e2d4e",
   "metadata": {},
   "source": [
    "#### 1: How many actors played in more than 2 movie ? Get their names and year they were born."
   ]
  },
  {
   "cell_type": "code",
   "execution_count": 71,
   "id": "dba99d1e-e5c8-4ef1-a251-0ecf4cfc4bab",
   "metadata": {},
   "outputs": [
    {
     "data": {
      "text/html": [
       "<table><tr><th>Name</th><th>YearOfBirth</th></tr><tr><td style=\"text-align:left\">Hugo Weaving</td><td style=\"text-align:right\">1960</td></tr><tr><td style=\"text-align:left\">Laurence Fishburne</td><td style=\"text-align:right\">1961</td></tr><tr><td style=\"text-align:left\">Carrie-Anne Moss</td><td style=\"text-align:right\">1967</td></tr></table>"
      ],
      "text/plain": [
       " Name               | YearOfBirth \n",
       "--------------------|-------------\n",
       " Hugo Weaving       |        1960 \n",
       " Laurence Fishburne |        1961 \n",
       " Carrie-Anne Moss   |        1967 "
      ]
     },
     "execution_count": 71,
     "metadata": {},
     "output_type": "execute_result"
    }
   ],
   "source": [
    "import py2neo\n",
    "graph = py2neo.Graph(\"bolt://localhost:7687\", auth=(\"neo4j\", \"password_tuts\"),name=\"movie\")\n",
    "query = \"\"\"\n",
    "MATCH (m:Movie)<-[:ACTED_IN]-(actor:Person)\n",
    "WITH actor, count(m) AS numMovies\n",
    "WHERE numMovies > 2\n",
    "RETURN actor.name AS Name, actor.born AS YearOfBirth\n",
    "\"\"\"\n",
    "graph.run(query)"
   ]
  },
  {
   "cell_type": "markdown",
   "id": "4cf50bc1-82dc-4c29-92bc-90476f3b2f78",
   "metadata": {},
   "source": [
    "#### 2: In how many movies did Tom hanks play ?"
   ]
  },
  {
   "cell_type": "code",
   "execution_count": 72,
   "id": "6ecc236e-378f-41de-8cfd-73b64ca04e07",
   "metadata": {},
   "outputs": [
    {
     "name": "stdout",
     "output_type": "stream",
     "text": [
      "Tom Hanks played in 12 movies.\n"
     ]
    }
   ],
   "source": [
    "import py2neo\n",
    "\n",
    "graph = py2neo.Graph(\"bolt://localhost:7687\", auth=(\"neo4j\", \"password_tuts\"), name=\"movie\")\n",
    "\n",
    "query = \"\"\"\n",
    "MATCH (m:Movie)<-[:ACTED_IN]-(actor:Person {name: \"Tom Hanks\"})\n",
    "RETURN count(m) AS NumberOfMovies\n",
    "\"\"\"\n",
    "result = graph.run(query).evaluate()\n",
    "print(\"Tom Hanks played in\", result, \"movies.\")\n"
   ]
  },
  {
   "cell_type": "markdown",
   "id": "15222731-116b-4d3e-bd56-2b95c793d942",
   "metadata": {},
   "source": [
    "#### 3: On average in how many movies do actors play in ?"
   ]
  },
  {
   "cell_type": "code",
   "execution_count": 92,
   "id": "c528336a-c495-4c38-928c-94d297fed782",
   "metadata": {},
   "outputs": [
    {
     "name": "stdout",
     "output_type": "stream",
     "text": [
      "On average, actors play in 1 movie(s).\n"
     ]
    }
   ],
   "source": [
    "import py2neo\n",
    "\n",
    "graph = py2neo.Graph(\"bolt://localhost:7687\", auth=(\"neo4j\", \"password_tuts\"), name=\"movie\")\n",
    "\n",
    "query = \"\"\"\n",
    "MATCH (actor:Person)-[:ACTED_IN]->(movie:Movie)\n",
    "WITH actor, count(movie) AS moviesCount\n",
    "RETURN avg(moviesCount) AS averageMoviesCount\n",
    "\"\"\"\n",
    "\n",
    "result = graph.run(query).evaluate()\n",
    "print(\"On average, actors play in\", int(result), \"movie(s).\")\n"
   ]
  },
  {
   "cell_type": "markdown",
   "id": "8fa447a8-afdd-4da6-a186-ca0485eed578",
   "metadata": {},
   "source": [
    "#### 4: On average how many actors are there in a movie ?"
   ]
  },
  {
   "cell_type": "code",
   "execution_count": 90,
   "id": "6a0effaa-22d6-4bd6-aa89-ba7a4cdb04a2",
   "metadata": {},
   "outputs": [
    {
     "name": "stdout",
     "output_type": "stream",
     "text": [
      "On average, there are 4 actors in a movie.\n"
     ]
    }
   ],
   "source": [
    "query = \"\"\"\n",
    "MATCH (movie:Movie)<-[:ACTED_IN]-(actor:Person)\n",
    "WITH movie, count(actor) AS actorCount\n",
    "RETURN avg(actorCount) AS averageActorCount\n",
    "\"\"\"\n",
    "\n",
    "result = graph.run(query).evaluate()\n",
    "print(\"On average, there are\", int(result), \"actors in a movie.\")\n"
   ]
  },
  {
   "cell_type": "markdown",
   "id": "a0de416f-c424-4b6b-8435-236f5d84af9d",
   "metadata": {},
   "source": [
    "#### 5: In average how many writers is needed to write a movie ?"
   ]
  },
  {
   "cell_type": "code",
   "execution_count": 89,
   "id": "664ede31-e910-403a-815f-ad7c64f6c4bf",
   "metadata": {},
   "outputs": [
    {
     "name": "stdout",
     "output_type": "stream",
     "text": [
      "On average, there are 1 writer(s) needed to write a movie.\n"
     ]
    }
   ],
   "source": [
    "query = \"\"\"\n",
    "MATCH (P:Person)-[:WROTE]->(m:Movie)\n",
    "WITH m, count(P) AS num_writers\n",
    "RETURN avg(num_writers) AS average_num_writers\n",
    "\"\"\"\n",
    "\n",
    "result = graph.run(query).evaluate()\n",
    "\n",
    "print(\"On average, there are\", int(result), \"writer(s) needed to write a movie.\")"
   ]
  },
  {
   "cell_type": "markdown",
   "id": "07b3aada-13d4-4d54-8348-606808a4e0d7",
   "metadata": {},
   "source": [
    "#### 6: What is the proportion of writers that also directed the movie ?"
   ]
  },
  {
   "cell_type": "code",
   "execution_count": 98,
   "id": "757a3195-dfc5-4518-89e8-1b70a1fabf6f",
   "metadata": {},
   "outputs": [
    {
     "name": "stdout",
     "output_type": "stream",
     "text": [
      "Proportion of writers that also directed the movie: 25.0\n"
     ]
    }
   ],
   "source": [
    "query = \"\"\" MATCH (w:Person)-[:WROTE]->(m:Movie)<-[:DIRECTED]-(d:Person)\n",
    "WHERE w.name = d.name\n",
    "WITH w, count(d) as num_directors\n",
    "RETURN (toFloat(num_directors) / count(w)) as proportion \"\"\"\n",
    "\n",
    "results = graph.run(query).to_data_frame()\n",
    "print(\"Proportion of writers that also directed the movie:\", results['proportion'][0]*100)"
   ]
  },
  {
   "cell_type": "markdown",
   "id": "85f8273e-ab03-437a-b7dc-16f62037c727",
   "metadata": {},
   "source": [
    "#### 7: Do a histogram of the year of release for the movies."
   ]
  },
  {
   "cell_type": "code",
   "execution_count": 100,
   "id": "75f8dc54-3099-4bd8-a359-3aae28130d58",
   "metadata": {},
   "outputs": [
    {
     "name": "stderr",
     "output_type": "stream",
     "text": [
      "C:\\Users\\Guest1\\AppData\\Local\\Temp\\ipykernel_32180\\2505097704.py:6: UserWarning: \n",
      "\n",
      "`distplot` is a deprecated function and will be removed in seaborn v0.14.0.\n",
      "\n",
      "Please adapt your code to use either `displot` (a figure-level function with\n",
      "similar flexibility) or `histplot` (an axes-level function for histograms).\n",
      "\n",
      "For a guide to updating your code to use the new functions, please see\n",
      "https://gist.github.com/mwaskom/de44147ed2974457ad6372750bbe5751\n",
      "\n",
      "  sns.distplot(data['year.released'])\n"
     ]
    },
    {
     "data": {
      "text/plain": [
       "<Axes: xlabel='year.released', ylabel='Density'>"
      ]
     },
     "execution_count": 100,
     "metadata": {},
     "output_type": "execute_result"
    },
    {
     "data": {
      "image/png": "[encoded data removed]",
      "text/plain": [
       "<Figure size 640x480 with 1 Axes>"
      ]
     },
     "metadata": {},
     "output_type": "display_data"
    }
   ],
   "source": [
    "import seaborn as sns\n",
    "\n",
    "%matplotlib inline\n",
    "query =\"\"\" Match (year:Movie) return year.released \"\"\"\n",
    "data =graph.run(query).to_data_frame()\n",
    "sns.distplot(data['year.released'])"
   ]
  },
  {
   "cell_type": "markdown",
   "id": "f5856b6e-0221-440b-9d64-c0bc746cd5d4",
   "metadata": {},
   "source": [
    "#### 8: Who are the 10 actors with the most movie played in"
   ]
  },
  {
   "cell_type": "code",
   "execution_count": 105,
   "id": "d2be8d88-539f-466e-868e-4059e440cf1e",
   "metadata": {},
   "outputs": [
    {
     "name": "stdout",
     "output_type": "stream",
     "text": [
      "Top 10 actors with the most movies played:\n",
      "1. Tom Hanks: 12 movies\n",
      "2. Keanu Reeves: 7 movies\n",
      "3. Meg Ryan: 5 movies\n",
      "4. Jack Nicholson: 5 movies\n",
      "5. Hugo Weaving: 5 movies\n",
      "6. Cuba Gooding Jr.: 4 movies\n",
      "7. Kevin Bacon: 3 movies\n",
      "8. Laurence Fishburne: 3 movies\n",
      "9. Carrie-Anne Moss: 3 movies\n",
      "10. Tom Cruise: 3 movies\n"
     ]
    }
   ],
   "source": [
    "query = \"\"\"\n",
    "MATCH (m:Movie)<-[:ACTED_IN]-(play:Person)\n",
    "RETURN play.name AS actor_name, count(m) AS movie_count\n",
    "ORDER BY movie_count DESC\n",
    "LIMIT 10\n",
    "\"\"\"\n",
    "\n",
    "# Execute the query and get the results\n",
    "results = graph.run(query)\n",
    "\n",
    "# Print the results\n",
    "print(\"Top 10 actors with the most movies played:\")\n",
    "for idx, record in enumerate(results):\n",
    "    print(f\"{idx + 1}. {record['actor_name']}: {record['movie_count']} movies\")"
   ]
  },
  {
   "cell_type": "markdown",
   "id": "00b20744-c763-4c3e-a2dc-590d3c6a65cf",
   "metadata": {},
   "source": [
    "#### 9: Delete every movie made by a director of your choosing"
   ]
  },
  {
   "cell_type": "code",
   "execution_count": 106,
   "id": "4eaabf15-a5d3-4d83-9f8f-eaa5384e40e3",
   "metadata": {},
   "outputs": [
    {
     "data": {
      "text/html": [
       "(No data)"
      ],
      "text/plain": [
       "(No data)"
      ]
     },
     "execution_count": 106,
     "metadata": {},
     "output_type": "execute_result"
    }
   ],
   "source": [
    "query = \"\"\" MATCH (d:Person {name: 'Andy Wachowski'})-[:DIRECTED]->(m:Movie)\n",
    "DETACH DELETE m \"\"\"\n",
    "\n",
    "graph.run(query)"
   ]
  },
  {
   "cell_type": "markdown",
   "id": "860543f5-dd7b-498d-8874-eadeda65a4a2",
   "metadata": {},
   "source": [
    "#### 10: Give some statistics that you find interesting."
   ]
  },
  {
   "cell_type": "code",
   "execution_count": 108,
   "id": "044a4652-f527-42d3-af19-e4cceab37f21",
   "metadata": {},
   "outputs": [
    {
     "name": "stdout",
     "output_type": "stream",
     "text": [
      "Number of movies displayed in 2000: 3\n"
     ]
    }
   ],
   "source": [
    "query = \"\"\"\n",
    "MATCH (m:Movie)\n",
    "WHERE m.released = 2000\n",
    "RETURN count(m) AS num_movies\n",
    "\"\"\"\n",
    "\n",
    "result = graph.run(query).evaluate()\n",
    "\n",
    "print(\"Number of movies displayed in 2000:\", result)\n"
   ]
  }
 ],
 "metadata": {
  "kernelspec": {
   "display_name": "Python 3 (ipykernel)",
   "language": "python",
   "name": "python3"
  },
  "language_info": {
   "codemirror_mode": {
    "name": "ipython",
    "version": 3
   },
   "file_extension": ".py",
   "mimetype": "text/x-python",
   "name": "python",
   "nbconvert_exporter": "python",
   "pygments_lexer": "ipython3",
   "version": "3.12.3"
  }
 },
 "nbformat": 4,
 "nbformat_minor": 5
}
