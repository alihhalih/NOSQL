{
 "cells": [
  {
   "cell_type": "markdown",
   "id": "3b87d2d3-7baf-4d76-9347-f377dc3df860",
   "metadata": {},
   "source": [
    "# Exercise Chapitre 1\n",
    "## SQLITE"
   ]
  },
  {
   "cell_type": "markdown",
   "id": "fe541fe5-be3c-482a-a122-cdb84f292d81",
   "metadata": {},
   "source": [
    "#### 1) Read all the data from bc.csv, how many rows is there ? Columns ?"
   ]
  },
  {
   "cell_type": "code",
   "execution_count": 2,
   "id": "6286fbb4-7715-4b9d-949f-88c566c28f5b",
   "metadata": {},
   "outputs": [
    {
     "data": {
      "text/html": [
       "<div>\n",
       "<style scoped>\n",
       "    .dataframe tbody tr th:only-of-type {\n",
       "        vertical-align: middle;\n",
       "    }\n",
       "\n",
       "    .dataframe tbody tr th {\n",
       "        vertical-align: top;\n",
       "    }\n",
       "\n",
       "    .dataframe thead th {\n",
       "        text-align: right;\n",
       "    }\n",
       "</style>\n",
       "<table border=\"1\" class=\"dataframe\">\n",
       "  <thead>\n",
       "    <tr style=\"text-align: right;\">\n",
       "      <th></th>\n",
       "      <th>id</th>\n",
       "      <th>diagnosis</th>\n",
       "      <th>radius_mean</th>\n",
       "      <th>texture_mean</th>\n",
       "      <th>perimeter_mean</th>\n",
       "      <th>area_mean</th>\n",
       "      <th>smoothness_mean</th>\n",
       "      <th>compactness_mean</th>\n",
       "      <th>concavity_mean</th>\n",
       "      <th>concave points_mean</th>\n",
       "      <th>...</th>\n",
       "      <th>texture_worst</th>\n",
       "      <th>perimeter_worst</th>\n",
       "      <th>area_worst</th>\n",
       "      <th>smoothness_worst</th>\n",
       "      <th>compactness_worst</th>\n",
       "      <th>concavity_worst</th>\n",
       "      <th>concave points_worst</th>\n",
       "      <th>symmetry_worst</th>\n",
       "      <th>fractal_dimension_worst</th>\n",
       "      <th>Unnamed: 32</th>\n",
       "    </tr>\n",
       "  </thead>\n",
       "  <tbody>\n",
       "    <tr>\n",
       "      <th>0</th>\n",
       "      <td>842302</td>\n",
       "      <td>M</td>\n",
       "      <td>17.99</td>\n",
       "      <td>10.38</td>\n",
       "      <td>122.80</td>\n",
       "      <td>1001.0</td>\n",
       "      <td>0.11840</td>\n",
       "      <td>0.27760</td>\n",
       "      <td>0.30010</td>\n",
       "      <td>0.14710</td>\n",
       "      <td>...</td>\n",
       "      <td>17.33</td>\n",
       "      <td>184.60</td>\n",
       "      <td>2019.0</td>\n",
       "      <td>0.16220</td>\n",
       "      <td>0.66560</td>\n",
       "      <td>0.7119</td>\n",
       "      <td>0.2654</td>\n",
       "      <td>0.4601</td>\n",
       "      <td>0.11890</td>\n",
       "      <td>NaN</td>\n",
       "    </tr>\n",
       "    <tr>\n",
       "      <th>1</th>\n",
       "      <td>842517</td>\n",
       "      <td>M</td>\n",
       "      <td>20.57</td>\n",
       "      <td>17.77</td>\n",
       "      <td>132.90</td>\n",
       "      <td>1326.0</td>\n",
       "      <td>0.08474</td>\n",
       "      <td>0.07864</td>\n",
       "      <td>0.08690</td>\n",
       "      <td>0.07017</td>\n",
       "      <td>...</td>\n",
       "      <td>23.41</td>\n",
       "      <td>158.80</td>\n",
       "      <td>1956.0</td>\n",
       "      <td>0.12380</td>\n",
       "      <td>0.18660</td>\n",
       "      <td>0.2416</td>\n",
       "      <td>0.1860</td>\n",
       "      <td>0.2750</td>\n",
       "      <td>0.08902</td>\n",
       "      <td>NaN</td>\n",
       "    </tr>\n",
       "    <tr>\n",
       "      <th>2</th>\n",
       "      <td>84300903</td>\n",
       "      <td>M</td>\n",
       "      <td>19.69</td>\n",
       "      <td>21.25</td>\n",
       "      <td>130.00</td>\n",
       "      <td>1203.0</td>\n",
       "      <td>0.10960</td>\n",
       "      <td>0.15990</td>\n",
       "      <td>0.19740</td>\n",
       "      <td>0.12790</td>\n",
       "      <td>...</td>\n",
       "      <td>25.53</td>\n",
       "      <td>152.50</td>\n",
       "      <td>1709.0</td>\n",
       "      <td>0.14440</td>\n",
       "      <td>0.42450</td>\n",
       "      <td>0.4504</td>\n",
       "      <td>0.2430</td>\n",
       "      <td>0.3613</td>\n",
       "      <td>0.08758</td>\n",
       "      <td>NaN</td>\n",
       "    </tr>\n",
       "    <tr>\n",
       "      <th>3</th>\n",
       "      <td>84348301</td>\n",
       "      <td>M</td>\n",
       "      <td>11.42</td>\n",
       "      <td>20.38</td>\n",
       "      <td>77.58</td>\n",
       "      <td>386.1</td>\n",
       "      <td>0.14250</td>\n",
       "      <td>0.28390</td>\n",
       "      <td>0.24140</td>\n",
       "      <td>0.10520</td>\n",
       "      <td>...</td>\n",
       "      <td>26.50</td>\n",
       "      <td>98.87</td>\n",
       "      <td>567.7</td>\n",
       "      <td>0.20980</td>\n",
       "      <td>0.86630</td>\n",
       "      <td>0.6869</td>\n",
       "      <td>0.2575</td>\n",
       "      <td>0.6638</td>\n",
       "      <td>0.17300</td>\n",
       "      <td>NaN</td>\n",
       "    </tr>\n",
       "    <tr>\n",
       "      <th>4</th>\n",
       "      <td>84358402</td>\n",
       "      <td>M</td>\n",
       "      <td>20.29</td>\n",
       "      <td>14.34</td>\n",
       "      <td>135.10</td>\n",
       "      <td>1297.0</td>\n",
       "      <td>0.10030</td>\n",
       "      <td>0.13280</td>\n",
       "      <td>0.19800</td>\n",
       "      <td>0.10430</td>\n",
       "      <td>...</td>\n",
       "      <td>16.67</td>\n",
       "      <td>152.20</td>\n",
       "      <td>1575.0</td>\n",
       "      <td>0.13740</td>\n",
       "      <td>0.20500</td>\n",
       "      <td>0.4000</td>\n",
       "      <td>0.1625</td>\n",
       "      <td>0.2364</td>\n",
       "      <td>0.07678</td>\n",
       "      <td>NaN</td>\n",
       "    </tr>\n",
       "    <tr>\n",
       "      <th>...</th>\n",
       "      <td>...</td>\n",
       "      <td>...</td>\n",
       "      <td>...</td>\n",
       "      <td>...</td>\n",
       "      <td>...</td>\n",
       "      <td>...</td>\n",
       "      <td>...</td>\n",
       "      <td>...</td>\n",
       "      <td>...</td>\n",
       "      <td>...</td>\n",
       "      <td>...</td>\n",
       "      <td>...</td>\n",
       "      <td>...</td>\n",
       "      <td>...</td>\n",
       "      <td>...</td>\n",
       "      <td>...</td>\n",
       "      <td>...</td>\n",
       "      <td>...</td>\n",
       "      <td>...</td>\n",
       "      <td>...</td>\n",
       "      <td>...</td>\n",
       "    </tr>\n",
       "    <tr>\n",
       "      <th>564</th>\n",
       "      <td>926424</td>\n",
       "      <td>M</td>\n",
       "      <td>21.56</td>\n",
       "      <td>22.39</td>\n",
       "      <td>142.00</td>\n",
       "      <td>1479.0</td>\n",
       "      <td>0.11100</td>\n",
       "      <td>0.11590</td>\n",
       "      <td>0.24390</td>\n",
       "      <td>0.13890</td>\n",
       "      <td>...</td>\n",
       "      <td>26.40</td>\n",
       "      <td>166.10</td>\n",
       "      <td>2027.0</td>\n",
       "      <td>0.14100</td>\n",
       "      <td>0.21130</td>\n",
       "      <td>0.4107</td>\n",
       "      <td>0.2216</td>\n",
       "      <td>0.2060</td>\n",
       "      <td>0.07115</td>\n",
       "      <td>NaN</td>\n",
       "    </tr>\n",
       "    <tr>\n",
       "      <th>565</th>\n",
       "      <td>926682</td>\n",
       "      <td>M</td>\n",
       "      <td>20.13</td>\n",
       "      <td>28.25</td>\n",
       "      <td>131.20</td>\n",
       "      <td>1261.0</td>\n",
       "      <td>0.09780</td>\n",
       "      <td>0.10340</td>\n",
       "      <td>0.14400</td>\n",
       "      <td>0.09791</td>\n",
       "      <td>...</td>\n",
       "      <td>38.25</td>\n",
       "      <td>155.00</td>\n",
       "      <td>1731.0</td>\n",
       "      <td>0.11660</td>\n",
       "      <td>0.19220</td>\n",
       "      <td>0.3215</td>\n",
       "      <td>0.1628</td>\n",
       "      <td>0.2572</td>\n",
       "      <td>0.06637</td>\n",
       "      <td>NaN</td>\n",
       "    </tr>\n",
       "    <tr>\n",
       "      <th>566</th>\n",
       "      <td>926954</td>\n",
       "      <td>M</td>\n",
       "      <td>16.60</td>\n",
       "      <td>28.08</td>\n",
       "      <td>108.30</td>\n",
       "      <td>858.1</td>\n",
       "      <td>0.08455</td>\n",
       "      <td>0.10230</td>\n",
       "      <td>0.09251</td>\n",
       "      <td>0.05302</td>\n",
       "      <td>...</td>\n",
       "      <td>34.12</td>\n",
       "      <td>126.70</td>\n",
       "      <td>1124.0</td>\n",
       "      <td>0.11390</td>\n",
       "      <td>0.30940</td>\n",
       "      <td>0.3403</td>\n",
       "      <td>0.1418</td>\n",
       "      <td>0.2218</td>\n",
       "      <td>0.07820</td>\n",
       "      <td>NaN</td>\n",
       "    </tr>\n",
       "    <tr>\n",
       "      <th>567</th>\n",
       "      <td>927241</td>\n",
       "      <td>M</td>\n",
       "      <td>20.60</td>\n",
       "      <td>29.33</td>\n",
       "      <td>140.10</td>\n",
       "      <td>1265.0</td>\n",
       "      <td>0.11780</td>\n",
       "      <td>0.27700</td>\n",
       "      <td>0.35140</td>\n",
       "      <td>0.15200</td>\n",
       "      <td>...</td>\n",
       "      <td>39.42</td>\n",
       "      <td>184.60</td>\n",
       "      <td>1821.0</td>\n",
       "      <td>0.16500</td>\n",
       "      <td>0.86810</td>\n",
       "      <td>0.9387</td>\n",
       "      <td>0.2650</td>\n",
       "      <td>0.4087</td>\n",
       "      <td>0.12400</td>\n",
       "      <td>NaN</td>\n",
       "    </tr>\n",
       "    <tr>\n",
       "      <th>568</th>\n",
       "      <td>92751</td>\n",
       "      <td>B</td>\n",
       "      <td>7.76</td>\n",
       "      <td>24.54</td>\n",
       "      <td>47.92</td>\n",
       "      <td>181.0</td>\n",
       "      <td>0.05263</td>\n",
       "      <td>0.04362</td>\n",
       "      <td>0.00000</td>\n",
       "      <td>0.00000</td>\n",
       "      <td>...</td>\n",
       "      <td>30.37</td>\n",
       "      <td>59.16</td>\n",
       "      <td>268.6</td>\n",
       "      <td>0.08996</td>\n",
       "      <td>0.06444</td>\n",
       "      <td>0.0000</td>\n",
       "      <td>0.0000</td>\n",
       "      <td>0.2871</td>\n",
       "      <td>0.07039</td>\n",
       "      <td>NaN</td>\n",
       "    </tr>\n",
       "  </tbody>\n",
       "</table>\n",
       "<p>569 rows × 33 columns</p>\n",
       "</div>"
      ],
      "text/plain": [
       "           id diagnosis  radius_mean  texture_mean  perimeter_mean  area_mean  \\\n",
       "0      842302         M        17.99         10.38          122.80     1001.0   \n",
       "1      842517         M        20.57         17.77          132.90     1326.0   \n",
       "2    84300903         M        19.69         21.25          130.00     1203.0   \n",
       "3    84348301         M        11.42         20.38           77.58      386.1   \n",
       "4    84358402         M        20.29         14.34          135.10     1297.0   \n",
       "..        ...       ...          ...           ...             ...        ...   \n",
       "564    926424         M        21.56         22.39          142.00     1479.0   \n",
       "565    926682         M        20.13         28.25          131.20     1261.0   \n",
       "566    926954         M        16.60         28.08          108.30      858.1   \n",
       "567    927241         M        20.60         29.33          140.10     1265.0   \n",
       "568     92751         B         7.76         24.54           47.92      181.0   \n",
       "\n",
       "     smoothness_mean  compactness_mean  concavity_mean  concave points_mean  \\\n",
       "0            0.11840           0.27760         0.30010              0.14710   \n",
       "1            0.08474           0.07864         0.08690              0.07017   \n",
       "2            0.10960           0.15990         0.19740              0.12790   \n",
       "3            0.14250           0.28390         0.24140              0.10520   \n",
       "4            0.10030           0.13280         0.19800              0.10430   \n",
       "..               ...               ...             ...                  ...   \n",
       "564          0.11100           0.11590         0.24390              0.13890   \n",
       "565          0.09780           0.10340         0.14400              0.09791   \n",
       "566          0.08455           0.10230         0.09251              0.05302   \n",
       "567          0.11780           0.27700         0.35140              0.15200   \n",
       "568          0.05263           0.04362         0.00000              0.00000   \n",
       "\n",
       "     ...  texture_worst  perimeter_worst  area_worst  smoothness_worst  \\\n",
       "0    ...          17.33           184.60      2019.0           0.16220   \n",
       "1    ...          23.41           158.80      1956.0           0.12380   \n",
       "2    ...          25.53           152.50      1709.0           0.14440   \n",
       "3    ...          26.50            98.87       567.7           0.20980   \n",
       "4    ...          16.67           152.20      1575.0           0.13740   \n",
       "..   ...            ...              ...         ...               ...   \n",
       "564  ...          26.40           166.10      2027.0           0.14100   \n",
       "565  ...          38.25           155.00      1731.0           0.11660   \n",
       "566  ...          34.12           126.70      1124.0           0.11390   \n",
       "567  ...          39.42           184.60      1821.0           0.16500   \n",
       "568  ...          30.37            59.16       268.6           0.08996   \n",
       "\n",
       "     compactness_worst  concavity_worst  concave points_worst  symmetry_worst  \\\n",
       "0              0.66560           0.7119                0.2654          0.4601   \n",
       "1              0.18660           0.2416                0.1860          0.2750   \n",
       "2              0.42450           0.4504                0.2430          0.3613   \n",
       "3              0.86630           0.6869                0.2575          0.6638   \n",
       "4              0.20500           0.4000                0.1625          0.2364   \n",
       "..                 ...              ...                   ...             ...   \n",
       "564            0.21130           0.4107                0.2216          0.2060   \n",
       "565            0.19220           0.3215                0.1628          0.2572   \n",
       "566            0.30940           0.3403                0.1418          0.2218   \n",
       "567            0.86810           0.9387                0.2650          0.4087   \n",
       "568            0.06444           0.0000                0.0000          0.2871   \n",
       "\n",
       "     fractal_dimension_worst  Unnamed: 32  \n",
       "0                    0.11890          NaN  \n",
       "1                    0.08902          NaN  \n",
       "2                    0.08758          NaN  \n",
       "3                    0.17300          NaN  \n",
       "4                    0.07678          NaN  \n",
       "..                       ...          ...  \n",
       "564                  0.07115          NaN  \n",
       "565                  0.06637          NaN  \n",
       "566                  0.07820          NaN  \n",
       "567                  0.12400          NaN  \n",
       "568                  0.07039          NaN  \n",
       "\n",
       "[569 rows x 33 columns]"
      ]
     },
     "execution_count": 2,
     "metadata": {},
     "output_type": "execute_result"
    }
   ],
   "source": [
    "import pandas as pd\n",
    "\n",
    "df = pd.read_csv('C:/Users/user/OneDrive/Documents/M1-APE-DS2E/Infrastructure_de_donnes/NoSQL/bc.csv')\n",
    "df"
   ]
  },
  {
   "cell_type": "markdown",
   "id": "cabe5175-3d93-41ec-85b7-950a8b9a2eed",
   "metadata": {},
   "source": [
    "**There are 569 rows and 33 columns**"
   ]
  },
  {
   "cell_type": "markdown",
   "id": "2dbc8e05-353a-475b-9edf-de83d18ad3de",
   "metadata": {},
   "source": [
    "#### 2) Insert the bc.csv in the sqlite format."
   ]
  },
  {
   "cell_type": "code",
   "execution_count": null,
   "id": "649a912c-72a7-49dd-90a4-0e766b05fabc",
   "metadata": {},
   "outputs": [],
   "source": [
    "import sqlite3\n",
    "\n",
    "#  Establishes a connection to an SQLite database file. The only argument is the path (If the file does not exist and empty file is created)\n",
    "conn = sqlite3.connect('C:/Users/user/OneDrive/Documents/M1-APE-DS2E/Infrastructure_de_donnes/NoSQL/bc.db')\n",
    "\n",
    "# A cursor in SQL databases is a database object that allows you to retrieve and manipulate a set of data rows returned by a SQL statement, one row at a time.\n",
    "c = conn.cursor()\n",
    "\n",
    "c.execute(\"\"\"SELECT * FROM bc\"\"\")\n",
    "\n",
    "docs = c.fetchall()\n"
   ]
  },
  {
   "cell_type": "markdown",
   "id": "7ae8b49f-db2e-4015-a1a9-704d8e9b4a64",
   "metadata": {},
   "source": [
    "#### 3) In the same db create a new table called tomatch with two variables id_ and rdm_float."
   ]
  },
  {
   "cell_type": "code",
   "execution_count": 5,
   "id": "6869e80d-d793-4bc0-8650-7417cbd938bc",
   "metadata": {},
   "outputs": [],
   "source": [
    "conn = sqlite3.connect('C:/Users/user/OneDrive/Documents/M1-APE-DS2E/Infrastructure_de_donnes/NoSQL/bc.db')\n",
    "c = conn.cursor()\n",
    "\n",
    "def create_table_tomatch():\n",
    "    try:\n",
    "        c.execute(\"\"\"CREATE TABLE IF NOT EXISTS tomatch(id_ INT PRIMARY KEY, \"rdm_float\" FLOAT)\"\"\")\n",
    "        conn.commit()\n",
    "    except Exception as e:\n",
    "        print(str(e))\n",
    "        \n",
    "# Sqlite3 excepts a table named \"main\" and therefore gives you a warning (can be ignored)\n",
    "create_table_tomatch()"
   ]
  },
  {
   "cell_type": "markdown",
   "id": "12cdc4aa-ef95-483f-a01d-5579b13757b1",
   "metadata": {},
   "source": [
    "#### 4) In the table tomatch insert observations where the id_ starts from 50k, ends at 10000000 and is only even numbers. rdm_float is a random float for each observation."
   ]
  },
  {
   "cell_type": "code",
   "execution_count": null,
   "id": "ce011d95-14f5-43a3-b0a6-28fb6b8bd793",
   "metadata": {},
   "outputs": [],
   "source": [
    "import tqdm\n",
    "import random\n",
    "\n",
    "query = \"\"\"INSERT INTO tomatch(\"id_\",\"rdm_float\") VALUES (?,?)\"\"\"\n",
    "\n",
    "for i in tqdm.tqdm(range(50000,10000001,2)):\n",
    "    random_float = random.random()\n",
    "    values = (i,random_float)\n",
    "    c.execute(query, values)\n",
    "conn.commit()\n",
    "\n",
    "c.execute(\"\"\"SELECT * FROM tomatch\"\"\")\n",
    "docs = c.fetchall()\n",
    "print(docs[:10])"
   ]
  },
  {
   "cell_type": "markdown",
   "id": "4dcb421d-8806-4479-a1cf-ee5eea47dabc",
   "metadata": {},
   "source": [
    "#### 5) Do an Inner join between the two tables and compute the different aggregate functions on a column of your choice."
   ]
  },
  {
   "cell_type": "code",
   "execution_count": 7,
   "id": "68dacc2d-5c74-4311-995e-c0d761e3dd7d",
   "metadata": {},
   "outputs": [
    {
     "name": "stdout",
     "output_type": "stream",
     "text": [
      "[(17.85, 'B', 12.14652380952381, 4336.309, 357, 6.981, 17.85), (28.11, 'M', 17.462830188679245, 3702.12, 212, 10.95, 28.11)]\n"
     ]
    }
   ],
   "source": [
    "c.execute(\"\"\"SELECT bc.id as id1, tomatch.id_ as id2\n",
    "             FROM bc\n",
    "             INNER JOIN tomatch\n",
    "             ON bc.id = tomatch.id_\n",
    "             \"\"\")\n",
    "c.execute(\"\"\"SELECT \"radius_mean\", diagnosis, AVG(\"radius_mean\"), SUM(\"radius_mean\"), COUNT(\"radius_mean\"), MIN(\"radius_mean\"), MAX(\"radius_mean\")\n",
    "             FROM bc \n",
    "             GROUP BY diagnosis\n",
    "             \"\"\")\n",
    "\n",
    "docs = c.fetchall()\n",
    "print(docs)"
   ]
  },
  {
   "cell_type": "markdown",
   "id": "dcbe5fe4-5257-402f-a0db-ff9201c1a81b",
   "metadata": {},
   "source": [
    "#### 6) How many observations have a radius_mean greater than 15 ? From them how many have a texture_mean greater than 20 ?"
   ]
  },
  {
   "cell_type": "code",
   "execution_count": 8,
   "id": "e28cf6fd-2eb2-4ffc-a3eb-0fbee5cdf97b",
   "metadata": {},
   "outputs": [
    {
     "name": "stdout",
     "output_type": "stream",
     "text": [
      "Number of obs with radius_mean greater than 15 : 173\n"
     ]
    }
   ],
   "source": [
    "c.execute(\"\"\" SELECT radius_mean FROM bc where radius_mean > 15\"\"\")\n",
    "print(\"Number of obs with radius_mean greater than 15 :\",len(c.fetchall()))"
   ]
  },
  {
   "cell_type": "code",
   "execution_count": 9,
   "id": "fa67d0ec-2f0b-4a19-9413-dc13bb4b0728",
   "metadata": {},
   "outputs": [
    {
     "name": "stdout",
     "output_type": "stream",
     "text": [
      "Number of obs with a texture_mean greater than 20, given that radius_mean is greater than 15: 106\n"
     ]
    }
   ],
   "source": [
    "c.execute(\"\"\" SELECT texture_mean FROM bc where radius_mean > 15 AND texture_mean > 20\"\"\")\n",
    "print(\"Number of obs with a texture_mean greater than 20, given that radius_mean is greater than 15:\",len(c.fetchall()))"
   ]
  },
  {
   "cell_type": "markdown",
   "id": "e8d77c77-0ecc-43f6-a4e6-6f9deed79486",
   "metadata": {},
   "source": [
    "#### 7) For each category in diagnosis do the mean of a variable and round it to get only 2 numbers after the comma. Compute the difference between the mean of both groups"
   ]
  },
  {
   "cell_type": "code",
   "execution_count": 23,
   "id": "b87bf447-4f9c-4636-ac9f-3aabb2fa9a5d",
   "metadata": {},
   "outputs": [
    {
     "name": "stdout",
     "output_type": "stream",
     "text": [
      "[(12.15,), (17.46,)]\n",
      "Difference =  (5.3100000000000005,)\n"
     ]
    }
   ],
   "source": [
    "c.execute(\"\"\"SELECT round(AVG(\"radius_mean\"),2)\n",
    "             FROM bc \n",
    "             GROUP BY diagnosis\n",
    "             \"\"\")\n",
    "res = c.fetchall()\n",
    "print(res)\n",
    "\n",
    "a = res[0]\n",
    "b = res[1]\n",
    "\n",
    "diff = tuple(x-y for x,y in zip(b,a))\n",
    "print('Difference = ',diff)\n"
   ]
  },
  {
   "cell_type": "markdown",
   "id": "cef65b79-307c-44c7-a160-7b8120190028",
   "metadata": {},
   "source": [
    "#### 8) Change the name of the column \"diagnosis\" to \"label\""
   ]
  },
  {
   "cell_type": "code",
   "execution_count": 25,
   "id": "258fbe62-9b48-4ba0-b02d-d897d99126ea",
   "metadata": {},
   "outputs": [
    {
     "data": {
      "text/plain": [
       "<sqlite3.Cursor at 0x2c15794cb40>"
      ]
     },
     "execution_count": 25,
     "metadata": {},
     "output_type": "execute_result"
    }
   ],
   "source": [
    "c.execute(\"\"\"ALTER TABLE bc RENAME COLUMN diagnosis TO label\"\"\") "
   ]
  },
  {
   "cell_type": "markdown",
   "id": "bc0e6169-3fa9-476f-b889-f9465582fdf1",
   "metadata": {},
   "source": [
    "#### 9) Add a column named \"day\" of type DATE. "
   ]
  },
  {
   "cell_type": "code",
   "execution_count": null,
   "id": "67a2f024-38ae-48ed-a772-b54bbff9a08a",
   "metadata": {},
   "outputs": [],
   "source": [
    "c.execute(\"\"\"ALTER TABLE bc ADD COLUMN day DATE\"\"\")"
   ]
  },
  {
   "cell_type": "markdown",
   "id": "2850839a-70c6-4d5e-8ee2-d9ac51f89038",
   "metadata": {},
   "source": [
    "#### 10) Change the type of the column \"area_mean\" to int (hint, not possible on sqlite, create a new column)"
   ]
  },
  {
   "cell_type": "code",
   "execution_count": null,
   "id": "2de0cfc3-c6f0-4bca-9933-a7cd8cfc5033",
   "metadata": {},
   "outputs": [],
   "source": [
    "c.execute(\"\"\"ALTER TABLE bc DROP COLUMN area_mean1\"\"\")"
   ]
  },
  {
   "cell_type": "code",
   "execution_count": 35,
   "id": "f2a15c32-7168-40d8-a6b2-871ee204205c",
   "metadata": {},
   "outputs": [
    {
     "name": "stdout",
     "output_type": "stream",
     "text": [
      "[]\n"
     ]
    }
   ],
   "source": [
    "c.execute(\"\"\"ALTER TABLE bc RENAME COLUMN area_mean TO area_mean1\"\"\") \n",
    "c.execute(\"\"\"ALTER TABLE bc ADD COLUMN area_mean INT\"\"\")\n",
    "c.execute(\"\"\" UPDATE bc SET 'area_mean' = 'area_mean1'\"\"\")\n",
    "c.execute(\"\"\"ALTER TABLE bc DROP COLUMN area_mean1\"\"\")\n",
    "\n",
    "print(c.fetchall())"
   ]
  },
  {
   "cell_type": "markdown",
   "id": "5a0bbf71-f42f-4a02-bbbf-8981497785d7",
   "metadata": {},
   "source": [
    "#### 11) create a new table called tomatch2 exactly the same way as tomatch except you increment id_ by 10."
   ]
  },
  {
   "cell_type": "code",
   "execution_count": null,
   "id": "aa3bf7e9-645f-4849-acaa-197bccdf2781",
   "metadata": {},
   "outputs": [],
   "source": [
    "def create_table_tomatch2():\n",
    "    try:\n",
    "        c.execute(\"\"\"CREATE TABLE IF NOT EXISTS tomatch2(id_ INT PRIMARY KEY, \"rdm_float\" FLOAT)\"\"\")\n",
    "        conn.commit()\n",
    "    except Exception as e:\n",
    "        print(str(e))\n",
    "        \n",
    "# Sqlite3 excepts a table named \"main\" and therefore gives you a warning (can be ignored)\n",
    "create_table_tomatch2()\n",
    "\n",
    "query = \"\"\"INSERT INTO tomatch2(\"id_\",\"rdm_float\") VALUES (?,?)\"\"\"\n",
    "\n",
    "for i in tqdm.tqdm(range(50000,10000001,10)):\n",
    "    random_float = random.random()\n",
    "    values = (i,random_float)\n",
    "    c.execute(query, values)\n",
    "conn.commit()\n",
    "\n",
    "c.execute(\"\"\"SELECT * FROM tomatch2\"\"\")\n",
    "docs = c.fetchall()\n",
    "print(docs[:10])"
   ]
  },
  {
   "cell_type": "markdown",
   "id": "3967165e-041d-4519-900d-8f375c7d974d",
   "metadata": {},
   "source": [
    "#### 12) Do an inner join of bc, tomatch and tomatch2 where the radius_mean is greater than 15, and the rdm_float is greater than 0.50 in tomatch AND tomatch2."
   ]
  },
  {
   "cell_type": "code",
   "execution_count": 3,
   "id": "8b8f63c2-e38c-4a96-8b93-8036b05029fe",
   "metadata": {},
   "outputs": [
    {
     "name": "stdout",
     "output_type": "stream",
     "text": [
      "[(879830, 879830, 879830), (884180, 884180, 884180), (8911670, 8911670, 8911670), (8912280, 8912280, 8912280), (895100, 895100, 895100), (9012000, 9012000, 9012000)]\n"
     ]
    }
   ],
   "source": [
    "c.execute(\"\"\"SELECT bc.id as id1, tomatch.id_ as id2, tomatch2.id_ as id3\n",
    "             FROM bc\n",
    "             INNER JOIN tomatch ON bc.id = tomatch.id_\n",
    "             INNER JOIN tomatch2 ON bc.id = tomatch2.id_\n",
    "             WHERE radius_mean > 15 AND tomatch.rdm_float > 0.5 AND tomatch2.rdm_float > 0.5 \n",
    "             \"\"\")\n",
    "\n",
    "print(c.fetchall())"
   ]
  },
  {
   "cell_type": "markdown",
   "id": "29844881-ec04-4d32-a4dc-4417b249f598",
   "metadata": {},
   "source": [
    "## MYSQL"
   ]
  },
  {
   "cell_type": "code",
   "execution_count": 4,
   "id": "5e357e27-ee7d-42c5-86b4-190ce0140a47",
   "metadata": {},
   "outputs": [
    {
     "name": "stdout",
     "output_type": "stream",
     "text": [
      "Requirement already satisfied: mysql-connector-python in c:\\users\\user\\appdata\\local\\programs\\python\\python312\\lib\\site-packages (8.3.0)\n"
     ]
    }
   ],
   "source": [
    "!pip install mysql-connector-python"
   ]
  },
  {
   "cell_type": "code",
   "execution_count": 7,
   "id": "8837a267-66e7-4400-8f3c-c30bd8f27980",
   "metadata": {},
   "outputs": [
    {
     "name": "stdout",
     "output_type": "stream",
     "text": [
      "<mysql.connector.connection_cext.CMySQLConnection object at 0x000001CEC55B9670>\n"
     ]
    }
   ],
   "source": [
    "import mysql.connector\n",
    "\n",
    "mydb = mysql.connector.connect(\n",
    "    host=\"localhost\",\n",
    "    user=\"root\",\n",
    "    password=\"root\")\n",
    "\n",
    "print(mydb) \n",
    "\n",
    "c = mydb.cursor()\n",
    "\n",
    "c.execute(\"CREATE DATABASE m1ds2e\")"
   ]
  },
  {
   "cell_type": "code",
   "execution_count": 8,
   "id": "783c90a0-198f-45de-8cc5-faa11b3584c0",
   "metadata": {},
   "outputs": [
    {
     "data": {
      "text/html": [
       "<div>\n",
       "<style scoped>\n",
       "    .dataframe tbody tr th:only-of-type {\n",
       "        vertical-align: middle;\n",
       "    }\n",
       "\n",
       "    .dataframe tbody tr th {\n",
       "        vertical-align: top;\n",
       "    }\n",
       "\n",
       "    .dataframe thead th {\n",
       "        text-align: right;\n",
       "    }\n",
       "</style>\n",
       "<table border=\"1\" class=\"dataframe\">\n",
       "  <thead>\n",
       "    <tr style=\"text-align: right;\">\n",
       "      <th></th>\n",
       "      <th>Row ID</th>\n",
       "      <th>Order Priority</th>\n",
       "      <th>Discount</th>\n",
       "      <th>Unit Price</th>\n",
       "      <th>Shipping Cost</th>\n",
       "      <th>Customer ID</th>\n",
       "      <th>Customer Name</th>\n",
       "      <th>Ship Mode</th>\n",
       "      <th>Customer Segment</th>\n",
       "      <th>Product Category</th>\n",
       "      <th>...</th>\n",
       "      <th>Region</th>\n",
       "      <th>State or Province</th>\n",
       "      <th>City</th>\n",
       "      <th>Postal Code</th>\n",
       "      <th>Order Date</th>\n",
       "      <th>Ship Date</th>\n",
       "      <th>Profit</th>\n",
       "      <th>Quantity ordered new</th>\n",
       "      <th>Sales</th>\n",
       "      <th>Order ID</th>\n",
       "    </tr>\n",
       "  </thead>\n",
       "  <tbody>\n",
       "    <tr>\n",
       "      <th>0</th>\n",
       "      <td>18606</td>\n",
       "      <td>Not Specified</td>\n",
       "      <td>0.01</td>\n",
       "      <td>2.88</td>\n",
       "      <td>0.50</td>\n",
       "      <td>2</td>\n",
       "      <td>Janice Fletcher</td>\n",
       "      <td>Regular Air</td>\n",
       "      <td>Corporate</td>\n",
       "      <td>Office Supplies</td>\n",
       "      <td>...</td>\n",
       "      <td>Central</td>\n",
       "      <td>Illinois</td>\n",
       "      <td>Addison</td>\n",
       "      <td>60101</td>\n",
       "      <td>5/28/2012</td>\n",
       "      <td>5/30/2012</td>\n",
       "      <td>1.3200</td>\n",
       "      <td>2</td>\n",
       "      <td>5.90</td>\n",
       "      <td>88525</td>\n",
       "    </tr>\n",
       "    <tr>\n",
       "      <th>1</th>\n",
       "      <td>20847</td>\n",
       "      <td>High</td>\n",
       "      <td>0.01</td>\n",
       "      <td>2.84</td>\n",
       "      <td>0.93</td>\n",
       "      <td>3</td>\n",
       "      <td>Bonnie Potter</td>\n",
       "      <td>Express Air</td>\n",
       "      <td>Corporate</td>\n",
       "      <td>Office Supplies</td>\n",
       "      <td>...</td>\n",
       "      <td>West</td>\n",
       "      <td>Washington</td>\n",
       "      <td>Anacortes</td>\n",
       "      <td>98221</td>\n",
       "      <td>7/7/2010</td>\n",
       "      <td>7/8/2010</td>\n",
       "      <td>4.5600</td>\n",
       "      <td>4</td>\n",
       "      <td>13.01</td>\n",
       "      <td>88522</td>\n",
       "    </tr>\n",
       "    <tr>\n",
       "      <th>2</th>\n",
       "      <td>23086</td>\n",
       "      <td>Not Specified</td>\n",
       "      <td>0.03</td>\n",
       "      <td>6.68</td>\n",
       "      <td>6.15</td>\n",
       "      <td>3</td>\n",
       "      <td>Bonnie Potter</td>\n",
       "      <td>Express Air</td>\n",
       "      <td>Corporate</td>\n",
       "      <td>Office Supplies</td>\n",
       "      <td>...</td>\n",
       "      <td>West</td>\n",
       "      <td>Washington</td>\n",
       "      <td>Anacortes</td>\n",
       "      <td>98221</td>\n",
       "      <td>7/27/2011</td>\n",
       "      <td>7/28/2011</td>\n",
       "      <td>-47.6400</td>\n",
       "      <td>7</td>\n",
       "      <td>49.92</td>\n",
       "      <td>88523</td>\n",
       "    </tr>\n",
       "    <tr>\n",
       "      <th>3</th>\n",
       "      <td>23087</td>\n",
       "      <td>Not Specified</td>\n",
       "      <td>0.01</td>\n",
       "      <td>5.68</td>\n",
       "      <td>3.60</td>\n",
       "      <td>3</td>\n",
       "      <td>Bonnie Potter</td>\n",
       "      <td>Regular Air</td>\n",
       "      <td>Corporate</td>\n",
       "      <td>Office Supplies</td>\n",
       "      <td>...</td>\n",
       "      <td>West</td>\n",
       "      <td>Washington</td>\n",
       "      <td>Anacortes</td>\n",
       "      <td>98221</td>\n",
       "      <td>7/27/2011</td>\n",
       "      <td>7/28/2011</td>\n",
       "      <td>-30.5100</td>\n",
       "      <td>7</td>\n",
       "      <td>41.64</td>\n",
       "      <td>88523</td>\n",
       "    </tr>\n",
       "    <tr>\n",
       "      <th>4</th>\n",
       "      <td>23088</td>\n",
       "      <td>Not Specified</td>\n",
       "      <td>0.00</td>\n",
       "      <td>205.99</td>\n",
       "      <td>2.50</td>\n",
       "      <td>3</td>\n",
       "      <td>Bonnie Potter</td>\n",
       "      <td>Express Air</td>\n",
       "      <td>Corporate</td>\n",
       "      <td>Technology</td>\n",
       "      <td>...</td>\n",
       "      <td>West</td>\n",
       "      <td>Washington</td>\n",
       "      <td>Anacortes</td>\n",
       "      <td>98221</td>\n",
       "      <td>7/27/2011</td>\n",
       "      <td>7/27/2011</td>\n",
       "      <td>998.2023</td>\n",
       "      <td>8</td>\n",
       "      <td>1446.67</td>\n",
       "      <td>88523</td>\n",
       "    </tr>\n",
       "    <tr>\n",
       "      <th>...</th>\n",
       "      <td>...</td>\n",
       "      <td>...</td>\n",
       "      <td>...</td>\n",
       "      <td>...</td>\n",
       "      <td>...</td>\n",
       "      <td>...</td>\n",
       "      <td>...</td>\n",
       "      <td>...</td>\n",
       "      <td>...</td>\n",
       "      <td>...</td>\n",
       "      <td>...</td>\n",
       "      <td>...</td>\n",
       "      <td>...</td>\n",
       "      <td>...</td>\n",
       "      <td>...</td>\n",
       "      <td>...</td>\n",
       "      <td>...</td>\n",
       "      <td>...</td>\n",
       "      <td>...</td>\n",
       "      <td>...</td>\n",
       "      <td>...</td>\n",
       "    </tr>\n",
       "    <tr>\n",
       "      <th>95</th>\n",
       "      <td>25225</td>\n",
       "      <td>Not Specified</td>\n",
       "      <td>0.03</td>\n",
       "      <td>6.68</td>\n",
       "      <td>6.15</td>\n",
       "      <td>36</td>\n",
       "      <td>Ray Morgan</td>\n",
       "      <td>Regular Air</td>\n",
       "      <td>Small Business</td>\n",
       "      <td>Office Supplies</td>\n",
       "      <td>...</td>\n",
       "      <td>West</td>\n",
       "      <td>Oregon</td>\n",
       "      <td>Hillsboro</td>\n",
       "      <td>97123</td>\n",
       "      <td>11/27/2012</td>\n",
       "      <td>11/29/2012</td>\n",
       "      <td>5.6500</td>\n",
       "      <td>10</td>\n",
       "      <td>73.81</td>\n",
       "      <td>91256</td>\n",
       "    </tr>\n",
       "    <tr>\n",
       "      <th>96</th>\n",
       "      <td>25226</td>\n",
       "      <td>Not Specified</td>\n",
       "      <td>0.10</td>\n",
       "      <td>5.78</td>\n",
       "      <td>5.67</td>\n",
       "      <td>37</td>\n",
       "      <td>Stacy Chandler</td>\n",
       "      <td>Regular Air</td>\n",
       "      <td>Small Business</td>\n",
       "      <td>Office Supplies</td>\n",
       "      <td>...</td>\n",
       "      <td>West</td>\n",
       "      <td>Oregon</td>\n",
       "      <td>Keizer</td>\n",
       "      <td>97303</td>\n",
       "      <td>11/27/2012</td>\n",
       "      <td>11/30/2012</td>\n",
       "      <td>7.6700</td>\n",
       "      <td>11</td>\n",
       "      <td>62.59</td>\n",
       "      <td>91256</td>\n",
       "    </tr>\n",
       "    <tr>\n",
       "      <th>97</th>\n",
       "      <td>20935</td>\n",
       "      <td>Medium</td>\n",
       "      <td>0.02</td>\n",
       "      <td>1.68</td>\n",
       "      <td>1.57</td>\n",
       "      <td>39</td>\n",
       "      <td>Ian L O'Donnell</td>\n",
       "      <td>Regular Air</td>\n",
       "      <td>Corporate</td>\n",
       "      <td>Office Supplies</td>\n",
       "      <td>...</td>\n",
       "      <td>Central</td>\n",
       "      <td>Illinois</td>\n",
       "      <td>Alton</td>\n",
       "      <td>62002</td>\n",
       "      <td>7/3/2011</td>\n",
       "      <td>7/4/2011</td>\n",
       "      <td>-30.5400</td>\n",
       "      <td>10</td>\n",
       "      <td>17.12</td>\n",
       "      <td>88682</td>\n",
       "    </tr>\n",
       "    <tr>\n",
       "      <th>98</th>\n",
       "      <td>20936</td>\n",
       "      <td>Medium</td>\n",
       "      <td>0.10</td>\n",
       "      <td>7.08</td>\n",
       "      <td>2.35</td>\n",
       "      <td>39</td>\n",
       "      <td>Ian L O'Donnell</td>\n",
       "      <td>Regular Air</td>\n",
       "      <td>Corporate</td>\n",
       "      <td>Office Supplies</td>\n",
       "      <td>...</td>\n",
       "      <td>Central</td>\n",
       "      <td>Illinois</td>\n",
       "      <td>Alton</td>\n",
       "      <td>62002</td>\n",
       "      <td>7/3/2011</td>\n",
       "      <td>7/5/2011</td>\n",
       "      <td>23.8200</td>\n",
       "      <td>14</td>\n",
       "      <td>90.80</td>\n",
       "      <td>88682</td>\n",
       "    </tr>\n",
       "    <tr>\n",
       "      <th>99</th>\n",
       "      <td>18911</td>\n",
       "      <td>Critical</td>\n",
       "      <td>0.07</td>\n",
       "      <td>28.15</td>\n",
       "      <td>8.99</td>\n",
       "      <td>39</td>\n",
       "      <td>Ian L O'Donnell</td>\n",
       "      <td>Express Air</td>\n",
       "      <td>Corporate</td>\n",
       "      <td>Office Supplies</td>\n",
       "      <td>...</td>\n",
       "      <td>Central</td>\n",
       "      <td>Illinois</td>\n",
       "      <td>Alton</td>\n",
       "      <td>62002</td>\n",
       "      <td>6/12/2013</td>\n",
       "      <td>6/15/2013</td>\n",
       "      <td>-15.4640</td>\n",
       "      <td>4</td>\n",
       "      <td>113.59</td>\n",
       "      <td>88684</td>\n",
       "    </tr>\n",
       "  </tbody>\n",
       "</table>\n",
       "<p>100 rows × 24 columns</p>\n",
       "</div>"
      ],
      "text/plain": [
       "    Row ID Order Priority  Discount  Unit Price  Shipping Cost  Customer ID  \\\n",
       "0    18606  Not Specified      0.01        2.88           0.50            2   \n",
       "1    20847           High      0.01        2.84           0.93            3   \n",
       "2    23086  Not Specified      0.03        6.68           6.15            3   \n",
       "3    23087  Not Specified      0.01        5.68           3.60            3   \n",
       "4    23088  Not Specified      0.00      205.99           2.50            3   \n",
       "..     ...            ...       ...         ...            ...          ...   \n",
       "95   25225  Not Specified      0.03        6.68           6.15           36   \n",
       "96   25226  Not Specified      0.10        5.78           5.67           37   \n",
       "97   20935         Medium      0.02        1.68           1.57           39   \n",
       "98   20936         Medium      0.10        7.08           2.35           39   \n",
       "99   18911       Critical      0.07       28.15           8.99           39   \n",
       "\n",
       "      Customer Name    Ship Mode Customer Segment Product Category  ...  \\\n",
       "0   Janice Fletcher  Regular Air        Corporate  Office Supplies  ...   \n",
       "1     Bonnie Potter  Express Air        Corporate  Office Supplies  ...   \n",
       "2     Bonnie Potter  Express Air        Corporate  Office Supplies  ...   \n",
       "3     Bonnie Potter  Regular Air        Corporate  Office Supplies  ...   \n",
       "4     Bonnie Potter  Express Air        Corporate       Technology  ...   \n",
       "..              ...          ...              ...              ...  ...   \n",
       "95       Ray Morgan  Regular Air   Small Business  Office Supplies  ...   \n",
       "96   Stacy Chandler  Regular Air   Small Business  Office Supplies  ...   \n",
       "97  Ian L O'Donnell  Regular Air        Corporate  Office Supplies  ...   \n",
       "98  Ian L O'Donnell  Regular Air        Corporate  Office Supplies  ...   \n",
       "99  Ian L O'Donnell  Express Air        Corporate  Office Supplies  ...   \n",
       "\n",
       "     Region State or Province       City  Postal Code  Order Date   Ship Date  \\\n",
       "0   Central          Illinois    Addison        60101   5/28/2012   5/30/2012   \n",
       "1      West        Washington  Anacortes        98221    7/7/2010    7/8/2010   \n",
       "2      West        Washington  Anacortes        98221   7/27/2011   7/28/2011   \n",
       "3      West        Washington  Anacortes        98221   7/27/2011   7/28/2011   \n",
       "4      West        Washington  Anacortes        98221   7/27/2011   7/27/2011   \n",
       "..      ...               ...        ...          ...         ...         ...   \n",
       "95     West            Oregon  Hillsboro        97123  11/27/2012  11/29/2012   \n",
       "96     West            Oregon     Keizer        97303  11/27/2012  11/30/2012   \n",
       "97  Central          Illinois      Alton        62002    7/3/2011    7/4/2011   \n",
       "98  Central          Illinois      Alton        62002    7/3/2011    7/5/2011   \n",
       "99  Central          Illinois      Alton        62002   6/12/2013   6/15/2013   \n",
       "\n",
       "      Profit  Quantity ordered new    Sales Order ID  \n",
       "0     1.3200                     2     5.90    88525  \n",
       "1     4.5600                     4    13.01    88522  \n",
       "2   -47.6400                     7    49.92    88523  \n",
       "3   -30.5100                     7    41.64    88523  \n",
       "4   998.2023                     8  1446.67    88523  \n",
       "..       ...                   ...      ...      ...  \n",
       "95    5.6500                    10    73.81    91256  \n",
       "96    7.6700                    11    62.59    91256  \n",
       "97  -30.5400                    10    17.12    88682  \n",
       "98   23.8200                    14    90.80    88682  \n",
       "99  -15.4640                     4   113.59    88684  \n",
       "\n",
       "[100 rows x 24 columns]"
      ]
     },
     "execution_count": 8,
     "metadata": {},
     "output_type": "execute_result"
    }
   ],
   "source": [
    "import mysql.connector\n",
    "import pandas as pd\n",
    "\n",
    "conn = mysql.connector.connect(\n",
    "    host=\"localhost\",\n",
    "    user=\"root\",\n",
    "    password=\"root\",\n",
    "    database=\"m1_ds2e\"\n",
    ")\n",
    "\n",
    "# Create a cursor object\n",
    "c = conn.cursor()\n",
    "\n",
    "# Execute the SQL query\n",
    "c.execute(\"SELECT * FROM sample_superstore\")\n",
    "\n",
    "docs = c.fetchall()\n",
    "\n",
    "columns = [description[0] for description in c.description]\n",
    "df = pd.DataFrame(docs, columns=columns)\n",
    "\n",
    "df.head(100)"
   ]
  },
  {
   "cell_type": "code",
   "execution_count": 10,
   "id": "ab0c5629-28e0-4a52-8582-59185ae0a207",
   "metadata": {},
   "outputs": [
    {
     "data": {
      "text/plain": [
       "Index(['Row ID', 'Order Priority', 'Discount', 'Unit Price', 'Shipping Cost',\n",
       "       'Customer ID', 'Customer Name', 'Ship Mode', 'Customer Segment',\n",
       "       'Product Category', 'Product Sub-Category', 'Product Container',\n",
       "       'Product Name', 'Product Base Margin', 'Region', 'State or Province',\n",
       "       'City', 'Postal Code', 'Order Date', 'Ship Date', 'Profit',\n",
       "       'Quantity ordered new', 'Sales', 'Order ID'],\n",
       "      dtype='object')"
      ]
     },
     "execution_count": 10,
     "metadata": {},
     "output_type": "execute_result"
    }
   ],
   "source": [
    "df.columns"
   ]
  },
  {
   "cell_type": "code",
   "execution_count": 13,
   "id": "ce248c5d-72c9-4a9d-8fa4-4e283e130107",
   "metadata": {},
   "outputs": [
    {
     "data": {
      "text/plain": [
       "165     3/2/2010\n",
       "166     3/2/2010\n",
       "167     3/2/2013\n",
       "168    8/26/2013\n",
       "169     5/2/2012\n",
       "170     5/2/2012\n",
       "171    6/12/2013\n",
       "172     1/2/2010\n",
       "173     1/2/2013\n",
       "174     1/2/2013\n",
       "Name: Order Date, dtype: object"
      ]
     },
     "execution_count": 13,
     "metadata": {},
     "output_type": "execute_result"
    }
   ],
   "source": [
    "df[\"Order Date\"].tail(10)"
   ]
  },
  {
   "cell_type": "markdown",
   "id": "d8c83edb-44db-4574-b3cc-be605f41b771",
   "metadata": {},
   "source": [
    "#### 1: How many orders were placed in total?"
   ]
  },
  {
   "cell_type": "code",
   "execution_count": 14,
   "id": "f07f293c-2e15-41b6-9ba4-908b80d888fc",
   "metadata": {},
   "outputs": [
    {
     "name": "stdout",
     "output_type": "stream",
     "text": [
      "Number of orders: [(175,)]\n"
     ]
    }
   ],
   "source": [
    "c.execute(\"SELECT COUNT(*) FROM sample_superstore\")\n",
    "print(\"Number of orders:\",c.fetchall())"
   ]
  },
  {
   "cell_type": "markdown",
   "id": "91f7a925-b053-475f-95c6-23d6cb07a3d6",
   "metadata": {},
   "source": [
    "#### 2: What is the total sales amount?"
   ]
  },
  {
   "cell_type": "code",
   "execution_count": 15,
   "id": "a7f2437b-486a-42af-9c50-cbd7a1477038",
   "metadata": {},
   "outputs": [],
   "source": [
    "c.execute(\"SELECT ROUND(SUM(sales),2) FROM sample_superstore\")"
   ]
  },
  {
   "cell_type": "code",
   "execution_count": 16,
   "id": "78f018a8-1b9d-494b-9438-954f7e1c6e2d",
   "metadata": {},
   "outputs": [
    {
     "name": "stdout",
     "output_type": "stream",
     "text": [
      "Total amount of sales : [(130555.31,)]\n"
     ]
    }
   ],
   "source": [
    "print(\"Total amount of sales :\",c.fetchall())"
   ]
  },
  {
   "cell_type": "markdown",
   "id": "6d0527bf-3e4a-4343-afd6-a0f44460b868",
   "metadata": {},
   "source": [
    "#### 3: What is the average profit per order?"
   ]
  },
  {
   "cell_type": "code",
   "execution_count": 17,
   "id": "210129b8-c29d-4017-a6d2-e5351be70855",
   "metadata": {},
   "outputs": [
    {
     "name": "stdout",
     "output_type": "stream",
     "text": [
      "Average profit per order: (136.04226416285724,)\n"
     ]
    }
   ],
   "source": [
    "c.execute(\"SELECT AVG(profit) FROM sample_superstore\")\n",
    "res = c.fetchall()\n",
    "print(\"Average profit per order:\",res[0])"
   ]
  },
  {
   "cell_type": "markdown",
   "id": "48f75274-e656-4bcb-aa82-fdd71108c1fc",
   "metadata": {},
   "source": [
    "#### 4: Which customer has placed the most orders?"
   ]
  },
  {
   "cell_type": "code",
   "execution_count": 18,
   "id": "f93f38f8-263e-4a7a-908f-8108b77b23bc",
   "metadata": {},
   "outputs": [
    {
     "name": "stdout",
     "output_type": "stream",
     "text": [
      "Tony Wilkins Winters 12\n",
      "Terri Lyons 8\n",
      "Randall Montgomery 8\n",
      "Bonnie Potter 6\n",
      "Timothy Reese 6\n",
      "Laurie Hanna 6\n",
      "Charlotte Stanton 6\n",
      "Guy Gallagher 5\n",
      "Geoffrey Hewitt 5\n",
      "Gene Diaz 5\n"
     ]
    }
   ],
   "source": [
    "c.execute(\"SELECT `Customer Name`, COUNT(*) AS obs FROM sample_superstore GROUP BY `Customer Name` ORDER BY obs DESC LIMIT 10\")\n",
    "results = c.fetchall()\n",
    "for i in results:\n",
    "    print(i[0], i[1])"
   ]
  },
  {
   "cell_type": "markdown",
   "id": "8a5f3367-8862-4309-80fe-a2fc516a33c8",
   "metadata": {},
   "source": [
    "#### 5: What is the total profit for each product category?"
   ]
  },
  {
   "cell_type": "code",
   "execution_count": 19,
   "id": "ae7cb453-5a67-4d42-91a0-eda762694f94",
   "metadata": {
    "scrolled": true
   },
   "outputs": [
    {
     "name": "stdout",
     "output_type": "stream",
     "text": [
      "Category: Office Supplies - Total Profit: 11605.983540000001\n",
      "Category: Technology - Total Profit: 10225.340091999999\n",
      "Category: Furniture - Total Profit: 1976.0725965000036\n"
     ]
    }
   ],
   "source": [
    "c.execute(\"SELECT `Product Category`, SUM(profit) AS total_profit FROM sample_superstore GROUP BY `Product Category`\")\n",
    "results = c.fetchall()\n",
    "for row in results:\n",
    "    print(\"Category:\", row[0], \"- Total Profit:\", row[1])"
   ]
  },
  {
   "cell_type": "markdown",
   "id": "0cf66b48-82cf-4f4e-8c92-4352c0b54b6b",
   "metadata": {},
   "source": [
    "#### 6: What is the average discount percentage?"
   ]
  },
  {
   "cell_type": "code",
   "execution_count": 20,
   "id": "0f8cfb30-b8c9-41bb-9b35-2a128a6ec19e",
   "metadata": {},
   "outputs": [
    {
     "name": "stdout",
     "output_type": "stream",
     "text": [
      "Average discount: 4.97\n"
     ]
    }
   ],
   "source": [
    "c.execute(\"SELECT AVG(Discount) FROM sample_superstore\")\n",
    "res = c.fetchall()\n",
    "avg = round(res[0][0]*100,2)\n",
    "print(\"Average discount:\",avg)"
   ]
  },
  {
   "cell_type": "markdown",
   "id": "70e4c1ef-1370-4be4-b14f-c6f5b6888c98",
   "metadata": {},
   "source": [
    "#### 7: Which region has the highest total sales?"
   ]
  },
  {
   "cell_type": "code",
   "execution_count": 21,
   "id": "a7322d4f-7c69-4f2a-aab6-4f7ddb9732f8",
   "metadata": {},
   "outputs": [
    {
     "data": {
      "text/html": [
       "<div>\n",
       "<style scoped>\n",
       "    .dataframe tbody tr th:only-of-type {\n",
       "        vertical-align: middle;\n",
       "    }\n",
       "\n",
       "    .dataframe tbody tr th {\n",
       "        vertical-align: top;\n",
       "    }\n",
       "\n",
       "    .dataframe thead th {\n",
       "        text-align: right;\n",
       "    }\n",
       "</style>\n",
       "<table border=\"1\" class=\"dataframe\">\n",
       "  <thead>\n",
       "    <tr style=\"text-align: right;\">\n",
       "      <th></th>\n",
       "      <th>Region</th>\n",
       "      <th>Total Sales</th>\n",
       "    </tr>\n",
       "  </thead>\n",
       "  <tbody>\n",
       "    <tr>\n",
       "      <th>0</th>\n",
       "      <td>West</td>\n",
       "      <td>75678.50</td>\n",
       "    </tr>\n",
       "    <tr>\n",
       "      <th>1</th>\n",
       "      <td>East</td>\n",
       "      <td>38033.85</td>\n",
       "    </tr>\n",
       "    <tr>\n",
       "      <th>2</th>\n",
       "      <td>Central</td>\n",
       "      <td>14261.62</td>\n",
       "    </tr>\n",
       "    <tr>\n",
       "      <th>3</th>\n",
       "      <td>South</td>\n",
       "      <td>2581.34</td>\n",
       "    </tr>\n",
       "  </tbody>\n",
       "</table>\n",
       "</div>"
      ],
      "text/plain": [
       "    Region  Total Sales\n",
       "0     West     75678.50\n",
       "1     East     38033.85\n",
       "2  Central     14261.62\n",
       "3    South      2581.34"
      ]
     },
     "execution_count": 21,
     "metadata": {},
     "output_type": "execute_result"
    }
   ],
   "source": [
    "c.execute(\"SELECT `Region`, SUM(Sales) AS total_sales FROM sample_superstore GROUP BY `Region`ORDER BY total_sales DESC\")\n",
    "results = c.fetchall()\n",
    "df = pd.DataFrame(results, columns=[\"Region\",\"Total Sales\"])\n",
    "df"
   ]
  },
  {
   "cell_type": "code",
   "execution_count": null,
   "id": "e62ce626-b611-4caf-bd2e-b285501262d6",
   "metadata": {},
   "outputs": [],
   "source": [
    "The West Region hast the highest total sales."
   ]
  },
  {
   "cell_type": "markdown",
   "id": "8bba7499-31ca-4364-9deb-56732c8c4616",
   "metadata": {},
   "source": [
    "#### 8: How many orders were shipped using each shipping mode?"
   ]
  },
  {
   "cell_type": "code",
   "execution_count": 22,
   "id": "57e3a857-33d6-487e-a477-0169af168605",
   "metadata": {},
   "outputs": [
    {
     "data": {
      "text/html": [
       "<div>\n",
       "<style scoped>\n",
       "    .dataframe tbody tr th:only-of-type {\n",
       "        vertical-align: middle;\n",
       "    }\n",
       "\n",
       "    .dataframe tbody tr th {\n",
       "        vertical-align: top;\n",
       "    }\n",
       "\n",
       "    .dataframe thead th {\n",
       "        text-align: right;\n",
       "    }\n",
       "</style>\n",
       "<table border=\"1\" class=\"dataframe\">\n",
       "  <thead>\n",
       "    <tr style=\"text-align: right;\">\n",
       "      <th></th>\n",
       "      <th>Shipping mode</th>\n",
       "      <th>Total</th>\n",
       "    </tr>\n",
       "  </thead>\n",
       "  <tbody>\n",
       "    <tr>\n",
       "      <th>0</th>\n",
       "      <td>Regular Air</td>\n",
       "      <td>131</td>\n",
       "    </tr>\n",
       "    <tr>\n",
       "      <th>1</th>\n",
       "      <td>Express Air</td>\n",
       "      <td>23</td>\n",
       "    </tr>\n",
       "    <tr>\n",
       "      <th>2</th>\n",
       "      <td>Delivery Truck</td>\n",
       "      <td>21</td>\n",
       "    </tr>\n",
       "  </tbody>\n",
       "</table>\n",
       "</div>"
      ],
      "text/plain": [
       "    Shipping mode  Total \n",
       "0     Regular Air     131\n",
       "1     Express Air      23\n",
       "2  Delivery Truck      21"
      ]
     },
     "execution_count": 22,
     "metadata": {},
     "output_type": "execute_result"
    }
   ],
   "source": [
    "c.execute(\"SELECT `Ship Mode`, COUNT(*) AS obs FROM sample_superstore GROUP BY `Ship Mode`\")\n",
    "results = c.fetchall()\n",
    "df = pd.DataFrame(results, columns=[\"Shipping mode\",\"Total \"])\n",
    "df"
   ]
  },
  {
   "cell_type": "markdown",
   "id": "6760c422-fee2-412d-8a47-b07867d4506f",
   "metadata": {},
   "source": [
    "#### 9: What is the total quantity ordered for each product sub-category?"
   ]
  },
  {
   "cell_type": "code",
   "execution_count": 23,
   "id": "1b1853f6-5cec-4445-a00c-4cafeaf26107",
   "metadata": {},
   "outputs": [
    {
     "data": {
      "text/html": [
       "<div>\n",
       "<style scoped>\n",
       "    .dataframe tbody tr th:only-of-type {\n",
       "        vertical-align: middle;\n",
       "    }\n",
       "\n",
       "    .dataframe tbody tr th {\n",
       "        vertical-align: top;\n",
       "    }\n",
       "\n",
       "    .dataframe thead th {\n",
       "        text-align: right;\n",
       "    }\n",
       "</style>\n",
       "<table border=\"1\" class=\"dataframe\">\n",
       "  <thead>\n",
       "    <tr style=\"text-align: right;\">\n",
       "      <th></th>\n",
       "      <th>Sub-Category</th>\n",
       "      <th>Total quantity</th>\n",
       "    </tr>\n",
       "  </thead>\n",
       "  <tbody>\n",
       "    <tr>\n",
       "      <th>0</th>\n",
       "      <td>Labels</td>\n",
       "      <td>171</td>\n",
       "    </tr>\n",
       "    <tr>\n",
       "      <th>1</th>\n",
       "      <td>Pens &amp; Art Supplies</td>\n",
       "      <td>196</td>\n",
       "    </tr>\n",
       "    <tr>\n",
       "      <th>2</th>\n",
       "      <td>Paper</td>\n",
       "      <td>286</td>\n",
       "    </tr>\n",
       "    <tr>\n",
       "      <th>3</th>\n",
       "      <td>Scissors, Rulers and Trimmers</td>\n",
       "      <td>24</td>\n",
       "    </tr>\n",
       "    <tr>\n",
       "      <th>4</th>\n",
       "      <td>Telephones and Communication</td>\n",
       "      <td>252</td>\n",
       "    </tr>\n",
       "    <tr>\n",
       "      <th>5</th>\n",
       "      <td>Office Machines</td>\n",
       "      <td>123</td>\n",
       "    </tr>\n",
       "    <tr>\n",
       "      <th>6</th>\n",
       "      <td>Chairs &amp; Chairmats</td>\n",
       "      <td>166</td>\n",
       "    </tr>\n",
       "    <tr>\n",
       "      <th>7</th>\n",
       "      <td>Appliances</td>\n",
       "      <td>184</td>\n",
       "    </tr>\n",
       "    <tr>\n",
       "      <th>8</th>\n",
       "      <td>Bookcases</td>\n",
       "      <td>39</td>\n",
       "    </tr>\n",
       "    <tr>\n",
       "      <th>9</th>\n",
       "      <td>Tables</td>\n",
       "      <td>50</td>\n",
       "    </tr>\n",
       "    <tr>\n",
       "      <th>10</th>\n",
       "      <td>Envelopes</td>\n",
       "      <td>46</td>\n",
       "    </tr>\n",
       "    <tr>\n",
       "      <th>11</th>\n",
       "      <td>Office Furnishings</td>\n",
       "      <td>233</td>\n",
       "    </tr>\n",
       "    <tr>\n",
       "      <th>12</th>\n",
       "      <td>Rubber Bands</td>\n",
       "      <td>119</td>\n",
       "    </tr>\n",
       "    <tr>\n",
       "      <th>13</th>\n",
       "      <td>Binders and Binder Accessories</td>\n",
       "      <td>129</td>\n",
       "    </tr>\n",
       "    <tr>\n",
       "      <th>14</th>\n",
       "      <td>Storage &amp; Organization</td>\n",
       "      <td>121</td>\n",
       "    </tr>\n",
       "    <tr>\n",
       "      <th>15</th>\n",
       "      <td>Copiers and Fax</td>\n",
       "      <td>5</td>\n",
       "    </tr>\n",
       "    <tr>\n",
       "      <th>16</th>\n",
       "      <td>Computer Peripherals</td>\n",
       "      <td>69</td>\n",
       "    </tr>\n",
       "  </tbody>\n",
       "</table>\n",
       "</div>"
      ],
      "text/plain": [
       "                      Sub-Category Total quantity\n",
       "0                           Labels            171\n",
       "1              Pens & Art Supplies            196\n",
       "2                            Paper            286\n",
       "3    Scissors, Rulers and Trimmers             24\n",
       "4     Telephones and Communication            252\n",
       "5                  Office Machines            123\n",
       "6               Chairs & Chairmats            166\n",
       "7                       Appliances            184\n",
       "8                        Bookcases             39\n",
       "9                           Tables             50\n",
       "10                       Envelopes             46\n",
       "11              Office Furnishings            233\n",
       "12                    Rubber Bands            119\n",
       "13  Binders and Binder Accessories            129\n",
       "14          Storage & Organization            121\n",
       "15                 Copiers and Fax              5\n",
       "16            Computer Peripherals             69"
      ]
     },
     "execution_count": 23,
     "metadata": {},
     "output_type": "execute_result"
    }
   ],
   "source": [
    "c.execute(\"SELECT `Product Sub-Category`, SUM(`Quantity ordered new`) AS total_quantity FROM sample_superstore GROUP BY `Product Sub-Category`\")\n",
    "results = c.fetchall()\n",
    "df = pd.DataFrame(results, columns=[\"Sub-Category\",\"Total quantity\"])\n",
    "df"
   ]
  },
  {
   "cell_type": "markdown",
   "id": "c08c3093-bc41-4051-bee1-d5355e09682c",
   "metadata": {},
   "source": [
    "#### 10: Which product has the highest profit margin?"
   ]
  },
  {
   "cell_type": "code",
   "execution_count": 24,
   "id": "fc06f31d-6a92-4842-83fa-63ddb2e65764",
   "metadata": {},
   "outputs": [
    {
     "data": {
      "text/html": [
       "<div>\n",
       "<style scoped>\n",
       "    .dataframe tbody tr th:only-of-type {\n",
       "        vertical-align: middle;\n",
       "    }\n",
       "\n",
       "    .dataframe tbody tr th {\n",
       "        vertical-align: top;\n",
       "    }\n",
       "\n",
       "    .dataframe thead th {\n",
       "        text-align: right;\n",
       "    }\n",
       "</style>\n",
       "<table border=\"1\" class=\"dataframe\">\n",
       "  <thead>\n",
       "    <tr style=\"text-align: right;\">\n",
       "      <th></th>\n",
       "      <th>Product Name</th>\n",
       "      <th>Profit Margin</th>\n",
       "    </tr>\n",
       "  </thead>\n",
       "  <tbody>\n",
       "    <tr>\n",
       "      <th>0</th>\n",
       "      <td>Accessory29</td>\n",
       "      <td>0.83</td>\n",
       "    </tr>\n",
       "    <tr>\n",
       "      <th>1</th>\n",
       "      <td>IrisÂ® 3-Drawer Stacking Bin, Black</td>\n",
       "      <td>0.83</td>\n",
       "    </tr>\n",
       "    <tr>\n",
       "      <th>2</th>\n",
       "      <td>Accessory37</td>\n",
       "      <td>0.81</td>\n",
       "    </tr>\n",
       "    <tr>\n",
       "      <th>3</th>\n",
       "      <td>Space Solutions Commercial Steel Shelving</td>\n",
       "      <td>0.80</td>\n",
       "    </tr>\n",
       "    <tr>\n",
       "      <th>4</th>\n",
       "      <td>Eldon Base for stackable storage shelf, platinum</td>\n",
       "      <td>0.80</td>\n",
       "    </tr>\n",
       "    <tr>\n",
       "      <th>...</th>\n",
       "      <td>...</td>\n",
       "      <td>...</td>\n",
       "    </tr>\n",
       "    <tr>\n",
       "      <th>144</th>\n",
       "      <td>Xerox 1903</td>\n",
       "      <td>0.36</td>\n",
       "    </tr>\n",
       "    <tr>\n",
       "      <th>145</th>\n",
       "      <td>TOPS Voice Message Log Book, Flash Format</td>\n",
       "      <td>0.36</td>\n",
       "    </tr>\n",
       "    <tr>\n",
       "      <th>146</th>\n",
       "      <td>Xerox 193</td>\n",
       "      <td>0.36</td>\n",
       "    </tr>\n",
       "    <tr>\n",
       "      <th>147</th>\n",
       "      <td>Storex DuraTech Recycled Plastic Frosted Binders</td>\n",
       "      <td>0.35</td>\n",
       "    </tr>\n",
       "    <tr>\n",
       "      <th>148</th>\n",
       "      <td>Staples Bulk Pack Metal Binder Clips</td>\n",
       "      <td>0.35</td>\n",
       "    </tr>\n",
       "  </tbody>\n",
       "</table>\n",
       "<p>149 rows × 2 columns</p>\n",
       "</div>"
      ],
      "text/plain": [
       "                                         Product Name  Profit Margin\n",
       "0                                         Accessory29           0.83\n",
       "1                 IrisÂ® 3-Drawer Stacking Bin, Black           0.83\n",
       "2                                         Accessory37           0.81\n",
       "3           Space Solutions Commercial Steel Shelving           0.80\n",
       "4    Eldon Base for stackable storage shelf, platinum           0.80\n",
       "..                                                ...            ...\n",
       "144                                        Xerox 1903           0.36\n",
       "145         TOPS Voice Message Log Book, Flash Format           0.36\n",
       "146                                         Xerox 193           0.36\n",
       "147  Storex DuraTech Recycled Plastic Frosted Binders           0.35\n",
       "148              Staples Bulk Pack Metal Binder Clips           0.35\n",
       "\n",
       "[149 rows x 2 columns]"
      ]
     },
     "execution_count": 24,
     "metadata": {},
     "output_type": "execute_result"
    }
   ],
   "source": [
    "c.execute(\"SELECT `Product Name`, MAX(`Product Base Margin`) as profit_margin FROM sample_superstore GROUP BY `Product Name` ORDER BY profit_margin DESC\")\n",
    "results = c.fetchall()\n",
    "df = pd.DataFrame(results, columns=[\"Product Name\",\"Profit Margin\"])\n",
    "df"
   ]
  },
  {
   "cell_type": "markdown",
   "id": "8654a98e-e102-467b-8c51-c37d1b7b143e",
   "metadata": {},
   "source": [
    "It looks like 'Accessory29' and 'IrisÂ® 3-Drawer Stacking Bin, Black' have the highest profit margin of 0.83"
   ]
  },
  {
   "cell_type": "markdown",
   "id": "e02b2762-1f99-4580-9c97-53b080b49e03",
   "metadata": {},
   "source": [
    "#### 11: What is the total sales amount for each year?"
   ]
  },
  {
   "cell_type": "markdown",
   "id": "17090893-fb51-476e-9551-784672eba2e2",
   "metadata": {},
   "source": [
    "#### 12: Which customer segment has the highest average sales?"
   ]
  },
  {
   "cell_type": "code",
   "execution_count": 4,
   "id": "f5ca3b27-b29c-47e1-a73a-5272fe19ac72",
   "metadata": {},
   "outputs": [
    {
     "data": {
      "text/html": [
       "<div>\n",
       "<style scoped>\n",
       "    .dataframe tbody tr th:only-of-type {\n",
       "        vertical-align: middle;\n",
       "    }\n",
       "\n",
       "    .dataframe tbody tr th {\n",
       "        vertical-align: top;\n",
       "    }\n",
       "\n",
       "    .dataframe thead th {\n",
       "        text-align: right;\n",
       "    }\n",
       "</style>\n",
       "<table border=\"1\" class=\"dataframe\">\n",
       "  <thead>\n",
       "    <tr style=\"text-align: right;\">\n",
       "      <th></th>\n",
       "      <th>Customer Segment</th>\n",
       "      <th>Average Sales</th>\n",
       "    </tr>\n",
       "  </thead>\n",
       "  <tbody>\n",
       "    <tr>\n",
       "      <th>0</th>\n",
       "      <td>Small Business</td>\n",
       "      <td>1041.564808</td>\n",
       "    </tr>\n",
       "    <tr>\n",
       "      <th>1</th>\n",
       "      <td>Home Office</td>\n",
       "      <td>868.696471</td>\n",
       "    </tr>\n",
       "    <tr>\n",
       "      <th>2</th>\n",
       "      <td>Consumer</td>\n",
       "      <td>856.527059</td>\n",
       "    </tr>\n",
       "    <tr>\n",
       "      <th>3</th>\n",
       "      <td>Corporate</td>\n",
       "      <td>528.821798</td>\n",
       "    </tr>\n",
       "  </tbody>\n",
       "</table>\n",
       "</div>"
      ],
      "text/plain": [
       "  Customer Segment  Average Sales\n",
       "0   Small Business    1041.564808\n",
       "1      Home Office     868.696471\n",
       "2         Consumer     856.527059\n",
       "3        Corporate     528.821798"
      ]
     },
     "execution_count": 4,
     "metadata": {},
     "output_type": "execute_result"
    }
   ],
   "source": [
    "c.execute(\"SELECT `Customer Segment`, AVG(Sales) AS avg_sales FROM sample_superstore GROUP BY `Customer Segment` ORDER BY avg_sales DESC\")\n",
    "results = c.fetchall()\n",
    "df = pd.DataFrame(results, columns = [\"Customer Segment\", \"Average Sales\"])\n",
    "df"
   ]
  },
  {
   "cell_type": "code",
   "execution_count": 21,
   "id": "3de299df-e9cc-46e8-891f-478a28af90cc",
   "metadata": {},
   "outputs": [
    {
     "data": {
      "text/html": [
       "<div>\n",
       "<style scoped>\n",
       "    .dataframe tbody tr th:only-of-type {\n",
       "        vertical-align: middle;\n",
       "    }\n",
       "\n",
       "    .dataframe tbody tr th {\n",
       "        vertical-align: top;\n",
       "    }\n",
       "\n",
       "    .dataframe thead th {\n",
       "        text-align: right;\n",
       "    }\n",
       "</style>\n",
       "<table border=\"1\" class=\"dataframe\">\n",
       "  <thead>\n",
       "    <tr style=\"text-align: right;\">\n",
       "      <th></th>\n",
       "      <th>Customer Segment</th>\n",
       "      <th>Average Sales</th>\n",
       "      <th>Rank</th>\n",
       "    </tr>\n",
       "  </thead>\n",
       "  <tbody>\n",
       "    <tr>\n",
       "      <th>0</th>\n",
       "      <td>Consumer</td>\n",
       "      <td>856.527059</td>\n",
       "      <td>1</td>\n",
       "    </tr>\n",
       "    <tr>\n",
       "      <th>1</th>\n",
       "      <td>Corporate</td>\n",
       "      <td>528.821798</td>\n",
       "      <td>1</td>\n",
       "    </tr>\n",
       "    <tr>\n",
       "      <th>2</th>\n",
       "      <td>Home Office</td>\n",
       "      <td>868.696471</td>\n",
       "      <td>1</td>\n",
       "    </tr>\n",
       "    <tr>\n",
       "      <th>3</th>\n",
       "      <td>Small Business</td>\n",
       "      <td>1041.564808</td>\n",
       "      <td>1</td>\n",
       "    </tr>\n",
       "  </tbody>\n",
       "</table>\n",
       "</div>"
      ],
      "text/plain": [
       "  Customer Segment  Average Sales  Rank\n",
       "0         Consumer     856.527059     1\n",
       "1        Corporate     528.821798     1\n",
       "2      Home Office     868.696471     1\n",
       "3   Small Business    1041.564808     1"
      ]
     },
     "execution_count": 21,
     "metadata": {},
     "output_type": "execute_result"
    }
   ],
   "source": [
    "c.execute(\"\"\"SELECT `Customer Segment`, AVG(Sales) as avg_sales, RANK() OVER (PARTITION BY `Customer Segment` ORDER BY AVG(Sales)) FROM sample_superstore GROUP BY `Customer Segment`\"\"\")\n",
    "\n",
    "results = c.fetchall()\n",
    "df = pd.DataFrame(results, columns = [\"Customer Segment\", \"Average Sales\",\"Rank\"])\n",
    "df"
   ]
  },
  {
   "cell_type": "markdown",
   "id": "b314db3d-b787-41a2-93c1-5d174d9cd914",
   "metadata": {},
   "source": [
    "## PostgreSQL"
   ]
  },
  {
   "cell_type": "code",
   "execution_count": 25,
   "id": "cfed9fe9-0279-46ba-adee-6aaa034c0acf",
   "metadata": {},
   "outputs": [
    {
     "data": {
      "text/html": [
       "<div>\n",
       "<style scoped>\n",
       "    .dataframe tbody tr th:only-of-type {\n",
       "        vertical-align: middle;\n",
       "    }\n",
       "\n",
       "    .dataframe tbody tr th {\n",
       "        vertical-align: top;\n",
       "    }\n",
       "\n",
       "    .dataframe thead th {\n",
       "        text-align: right;\n",
       "    }\n",
       "</style>\n",
       "<table border=\"1\" class=\"dataframe\">\n",
       "  <thead>\n",
       "    <tr style=\"text-align: right;\">\n",
       "      <th></th>\n",
       "      <th>age</th>\n",
       "      <th>job</th>\n",
       "      <th>marital</th>\n",
       "      <th>education</th>\n",
       "      <th>default_</th>\n",
       "      <th>balance</th>\n",
       "      <th>housing</th>\n",
       "      <th>loan</th>\n",
       "      <th>contact</th>\n",
       "      <th>day</th>\n",
       "      <th>month</th>\n",
       "      <th>duration</th>\n",
       "      <th>campaign</th>\n",
       "      <th>pdays</th>\n",
       "      <th>previous</th>\n",
       "      <th>poutcome</th>\n",
       "      <th>y</th>\n",
       "    </tr>\n",
       "  </thead>\n",
       "  <tbody>\n",
       "    <tr>\n",
       "      <th>0</th>\n",
       "      <td>58</td>\n",
       "      <td>management</td>\n",
       "      <td>married</td>\n",
       "      <td>tertiary</td>\n",
       "      <td>no</td>\n",
       "      <td>2143</td>\n",
       "      <td>yes</td>\n",
       "      <td>no</td>\n",
       "      <td>unknown</td>\n",
       "      <td>5</td>\n",
       "      <td>may</td>\n",
       "      <td>261</td>\n",
       "      <td>1</td>\n",
       "      <td>-1</td>\n",
       "      <td>0</td>\n",
       "      <td>unknown</td>\n",
       "      <td>no</td>\n",
       "    </tr>\n",
       "    <tr>\n",
       "      <th>1</th>\n",
       "      <td>44</td>\n",
       "      <td>technician</td>\n",
       "      <td>single</td>\n",
       "      <td>secondary</td>\n",
       "      <td>no</td>\n",
       "      <td>29</td>\n",
       "      <td>yes</td>\n",
       "      <td>no</td>\n",
       "      <td>unknown</td>\n",
       "      <td>5</td>\n",
       "      <td>may</td>\n",
       "      <td>151</td>\n",
       "      <td>1</td>\n",
       "      <td>-1</td>\n",
       "      <td>0</td>\n",
       "      <td>unknown</td>\n",
       "      <td>no</td>\n",
       "    </tr>\n",
       "    <tr>\n",
       "      <th>2</th>\n",
       "      <td>33</td>\n",
       "      <td>entrepreneur</td>\n",
       "      <td>married</td>\n",
       "      <td>secondary</td>\n",
       "      <td>no</td>\n",
       "      <td>2</td>\n",
       "      <td>yes</td>\n",
       "      <td>yes</td>\n",
       "      <td>unknown</td>\n",
       "      <td>5</td>\n",
       "      <td>may</td>\n",
       "      <td>76</td>\n",
       "      <td>1</td>\n",
       "      <td>-1</td>\n",
       "      <td>0</td>\n",
       "      <td>unknown</td>\n",
       "      <td>no</td>\n",
       "    </tr>\n",
       "    <tr>\n",
       "      <th>3</th>\n",
       "      <td>47</td>\n",
       "      <td>blue-collar</td>\n",
       "      <td>married</td>\n",
       "      <td>unknown</td>\n",
       "      <td>no</td>\n",
       "      <td>1506</td>\n",
       "      <td>yes</td>\n",
       "      <td>no</td>\n",
       "      <td>unknown</td>\n",
       "      <td>5</td>\n",
       "      <td>may</td>\n",
       "      <td>92</td>\n",
       "      <td>1</td>\n",
       "      <td>-1</td>\n",
       "      <td>0</td>\n",
       "      <td>unknown</td>\n",
       "      <td>no</td>\n",
       "    </tr>\n",
       "    <tr>\n",
       "      <th>4</th>\n",
       "      <td>33</td>\n",
       "      <td>unknown</td>\n",
       "      <td>single</td>\n",
       "      <td>unknown</td>\n",
       "      <td>no</td>\n",
       "      <td>1</td>\n",
       "      <td>no</td>\n",
       "      <td>no</td>\n",
       "      <td>unknown</td>\n",
       "      <td>5</td>\n",
       "      <td>may</td>\n",
       "      <td>198</td>\n",
       "      <td>1</td>\n",
       "      <td>-1</td>\n",
       "      <td>0</td>\n",
       "      <td>unknown</td>\n",
       "      <td>no</td>\n",
       "    </tr>\n",
       "    <tr>\n",
       "      <th>...</th>\n",
       "      <td>...</td>\n",
       "      <td>...</td>\n",
       "      <td>...</td>\n",
       "      <td>...</td>\n",
       "      <td>...</td>\n",
       "      <td>...</td>\n",
       "      <td>...</td>\n",
       "      <td>...</td>\n",
       "      <td>...</td>\n",
       "      <td>...</td>\n",
       "      <td>...</td>\n",
       "      <td>...</td>\n",
       "      <td>...</td>\n",
       "      <td>...</td>\n",
       "      <td>...</td>\n",
       "      <td>...</td>\n",
       "      <td>...</td>\n",
       "    </tr>\n",
       "    <tr>\n",
       "      <th>45206</th>\n",
       "      <td>51</td>\n",
       "      <td>technician</td>\n",
       "      <td>married</td>\n",
       "      <td>tertiary</td>\n",
       "      <td>no</td>\n",
       "      <td>825</td>\n",
       "      <td>no</td>\n",
       "      <td>no</td>\n",
       "      <td>cellular</td>\n",
       "      <td>17</td>\n",
       "      <td>nov</td>\n",
       "      <td>977</td>\n",
       "      <td>3</td>\n",
       "      <td>-1</td>\n",
       "      <td>0</td>\n",
       "      <td>unknown</td>\n",
       "      <td>yes</td>\n",
       "    </tr>\n",
       "    <tr>\n",
       "      <th>45207</th>\n",
       "      <td>71</td>\n",
       "      <td>retired</td>\n",
       "      <td>divorced</td>\n",
       "      <td>primary</td>\n",
       "      <td>no</td>\n",
       "      <td>1729</td>\n",
       "      <td>no</td>\n",
       "      <td>no</td>\n",
       "      <td>cellular</td>\n",
       "      <td>17</td>\n",
       "      <td>nov</td>\n",
       "      <td>456</td>\n",
       "      <td>2</td>\n",
       "      <td>-1</td>\n",
       "      <td>0</td>\n",
       "      <td>unknown</td>\n",
       "      <td>yes</td>\n",
       "    </tr>\n",
       "    <tr>\n",
       "      <th>45208</th>\n",
       "      <td>72</td>\n",
       "      <td>retired</td>\n",
       "      <td>married</td>\n",
       "      <td>secondary</td>\n",
       "      <td>no</td>\n",
       "      <td>5715</td>\n",
       "      <td>no</td>\n",
       "      <td>no</td>\n",
       "      <td>cellular</td>\n",
       "      <td>17</td>\n",
       "      <td>nov</td>\n",
       "      <td>1127</td>\n",
       "      <td>5</td>\n",
       "      <td>184</td>\n",
       "      <td>3</td>\n",
       "      <td>success</td>\n",
       "      <td>yes</td>\n",
       "    </tr>\n",
       "    <tr>\n",
       "      <th>45209</th>\n",
       "      <td>57</td>\n",
       "      <td>blue-collar</td>\n",
       "      <td>married</td>\n",
       "      <td>secondary</td>\n",
       "      <td>no</td>\n",
       "      <td>668</td>\n",
       "      <td>no</td>\n",
       "      <td>no</td>\n",
       "      <td>telephone</td>\n",
       "      <td>17</td>\n",
       "      <td>nov</td>\n",
       "      <td>508</td>\n",
       "      <td>4</td>\n",
       "      <td>-1</td>\n",
       "      <td>0</td>\n",
       "      <td>unknown</td>\n",
       "      <td>no</td>\n",
       "    </tr>\n",
       "    <tr>\n",
       "      <th>45210</th>\n",
       "      <td>37</td>\n",
       "      <td>entrepreneur</td>\n",
       "      <td>married</td>\n",
       "      <td>secondary</td>\n",
       "      <td>no</td>\n",
       "      <td>2971</td>\n",
       "      <td>no</td>\n",
       "      <td>no</td>\n",
       "      <td>cellular</td>\n",
       "      <td>17</td>\n",
       "      <td>nov</td>\n",
       "      <td>361</td>\n",
       "      <td>2</td>\n",
       "      <td>188</td>\n",
       "      <td>11</td>\n",
       "      <td>other</td>\n",
       "      <td>no</td>\n",
       "    </tr>\n",
       "  </tbody>\n",
       "</table>\n",
       "<p>45211 rows × 17 columns</p>\n",
       "</div>"
      ],
      "text/plain": [
       "       age           job   marital  education default_  balance housing loan  \\\n",
       "0       58    management   married   tertiary       no     2143     yes   no   \n",
       "1       44    technician    single  secondary       no       29     yes   no   \n",
       "2       33  entrepreneur   married  secondary       no        2     yes  yes   \n",
       "3       47   blue-collar   married    unknown       no     1506     yes   no   \n",
       "4       33       unknown    single    unknown       no        1      no   no   \n",
       "...    ...           ...       ...        ...      ...      ...     ...  ...   \n",
       "45206   51    technician   married   tertiary       no      825      no   no   \n",
       "45207   71       retired  divorced    primary       no     1729      no   no   \n",
       "45208   72       retired   married  secondary       no     5715      no   no   \n",
       "45209   57   blue-collar   married  secondary       no      668      no   no   \n",
       "45210   37  entrepreneur   married  secondary       no     2971      no   no   \n",
       "\n",
       "         contact  day month  duration  campaign  pdays  previous poutcome    y  \n",
       "0        unknown    5   may       261         1     -1         0  unknown   no  \n",
       "1        unknown    5   may       151         1     -1         0  unknown   no  \n",
       "2        unknown    5   may        76         1     -1         0  unknown   no  \n",
       "3        unknown    5   may        92         1     -1         0  unknown   no  \n",
       "4        unknown    5   may       198         1     -1         0  unknown   no  \n",
       "...          ...  ...   ...       ...       ...    ...       ...      ...  ...  \n",
       "45206   cellular   17   nov       977         3     -1         0  unknown  yes  \n",
       "45207   cellular   17   nov       456         2     -1         0  unknown  yes  \n",
       "45208   cellular   17   nov      1127         5    184         3  success  yes  \n",
       "45209  telephone   17   nov       508         4     -1         0  unknown   no  \n",
       "45210   cellular   17   nov       361         2    188        11    other   no  \n",
       "\n",
       "[45211 rows x 17 columns]"
      ]
     },
     "execution_count": 25,
     "metadata": {},
     "output_type": "execute_result"
    }
   ],
   "source": [
    "df = pd.read_csv('C:/Users/user/OneDrive/Documents/M1-APE-DS2E/Infrastructure_de_donnes/NoSQL/bank_full.csv')\n",
    "df.columns\n",
    "df"
   ]
  },
  {
   "cell_type": "code",
   "execution_count": 22,
   "id": "adf443fd-b58f-4f65-a0b8-39f3b2f97afc",
   "metadata": {},
   "outputs": [
    {
     "name": "stdout",
     "output_type": "stream",
     "text": [
      "Collecting psycopg2\n",
      "  Downloading psycopg2-2.9.9-cp312-cp312-win_amd64.whl.metadata (4.5 kB)\n",
      "Downloading psycopg2-2.9.9-cp312-cp312-win_amd64.whl (1.2 MB)\n",
      "   ---------------------------------------- 0.0/1.2 MB ? eta -:--:--\n",
      "   ---------------------------------------- 0.0/1.2 MB ? eta -:--:--\n",
      "    --------------------------------------- 0.0/1.2 MB 320.0 kB/s eta 0:00:04\n",
      "   -- ------------------------------------- 0.1/1.2 MB 544.7 kB/s eta 0:00:03\n",
      "   -------- ------------------------------- 0.2/1.2 MB 1.6 MB/s eta 0:00:01\n",
      "   -------------- ------------------------- 0.4/1.2 MB 2.4 MB/s eta 0:00:01\n",
      "   ------------------------------- -------- 0.9/1.2 MB 3.8 MB/s eta 0:00:01\n",
      "   ---------------------------------------  1.2/1.2 MB 4.3 MB/s eta 0:00:01\n",
      "   ---------------------------------------  1.2/1.2 MB 4.3 MB/s eta 0:00:01\n",
      "   ---------------------------------------- 1.2/1.2 MB 3.5 MB/s eta 0:00:00\n",
      "Installing collected packages: psycopg2\n",
      "Successfully installed psycopg2-2.9.9\n"
     ]
    }
   ],
   "source": [
    "!pip install psycopg2"
   ]
  },
  {
   "cell_type": "code",
   "execution_count": 1,
   "id": "82e80c1d-ded1-45cf-886c-868cb6d049ed",
   "metadata": {},
   "outputs": [],
   "source": [
    "import psycopg2\n",
    "import pandas as pd\n",
    "\n",
    "\n",
    "# Connect to PostgreSQL database\n",
    "conn = psycopg2.connect(dbname=\"m1ds2e\", user=\"postgres\", password=\"root\", host=\"localhost\",  port=\"5432\" )\n",
    "cur = conn.cursor()"
   ]
  },
  {
   "cell_type": "markdown",
   "id": "91e4c169-81e8-4787-b1b2-fc6509439305",
   "metadata": {},
   "source": [
    "#### 1: What is the average age of the customers"
   ]
  },
  {
   "cell_type": "code",
   "execution_count": 35,
   "id": "51c1fdec-3b79-4115-bebf-bea553d6f69e",
   "metadata": {},
   "outputs": [],
   "source": [
    "table_name = \"bank_full\"\n",
    "columns = [\n",
    "    \"age INTEGER\",\n",
    "    \"job VARCHAR(100)\",\n",
    "    \"marital VARCHAR(20)\",\n",
    "    \"education VARCHAR(100)\",\n",
    "    \"default_ VARCHAR(10)\",\n",
    "    \"balance NUMERIC\",\n",
    "    \"housing VARCHAR(10)\",\n",
    "    \"loan VARCHAR(10)\",\n",
    "    \"contact VARCHAR(100)\",\n",
    "    \"day INTEGER\",\n",
    "    \"month VARCHAR(20)\",\n",
    "    \"duration INTEGER\",\n",
    "    \"campaign INTEGER\",\n",
    "    \"pdays INTEGER\",\n",
    "    \"previous INTEGER\",\n",
    "    \"poutcome VARCHAR(100)\",\n",
    "    \"y VARCHAR(10)\"\n",
    "]\n",
    "\n",
    "create_table_query = (\n",
    "    \"CREATE TABLE IF NOT EXISTS \" + table_name + \" (\" +\n",
    "    \", \".join(columns) +\n",
    "    \")\"\n",
    ")\n",
    "\n",
    "cur.execute(create_table_query)\n",
    "conn.commit()"
   ]
  },
  {
   "cell_type": "markdown",
   "id": "c03de317-6ee0-48f8-86be-1899d7b1d986",
   "metadata": {},
   "source": [
    "#### 1: What is the average age of the customers?"
   ]
  },
  {
   "cell_type": "code",
   "execution_count": 11,
   "id": "80f3f4c3-a4ec-4432-825e-8174116b7d95",
   "metadata": {},
   "outputs": [
    {
     "name": "stdout",
     "output_type": "stream",
     "text": [
      "Average age of customers: 40\n"
     ]
    }
   ],
   "source": [
    "cur.execute(\"SELECT AVG(age) FROM bank_full\")\n",
    "res = cur.fetchall()\n",
    "print(\"Average age of customers:\",int(float(res[0][0])))"
   ]
  },
  {
   "cell_type": "markdown",
   "id": "17d07e6e-e0ef-4340-8c99-d41a87768167",
   "metadata": {},
   "source": [
    "#### 2: How many customers have defaulted on loans?"
   ]
  },
  {
   "cell_type": "code",
   "execution_count": 6,
   "id": "008f39d0-1c77-4bd3-b7c7-818f06000919",
   "metadata": {},
   "outputs": [
    {
     "name": "stdout",
     "output_type": "stream",
     "text": [
      "Number of customers who have defaulted on loans: 815\n"
     ]
    }
   ],
   "source": [
    "cur.execute(\"SELECT default_, COUNT(*) AS obs FROM bank_full GROUP BY default_\")\n",
    "print(\"Number of customers who have defaulted on loans:\",cur.fetchall()[1][1])"
   ]
  },
  {
   "cell_type": "markdown",
   "id": "422af69e-0933-49f9-a3de-59a16d6eb5a5",
   "metadata": {},
   "source": [
    "#### 3: What is the maximum balance in the account?"
   ]
  },
  {
   "cell_type": "code",
   "execution_count": 8,
   "id": "c2e0d307-e4f6-4508-8687-6c249818cdbe",
   "metadata": {},
   "outputs": [
    {
     "name": "stdout",
     "output_type": "stream",
     "text": [
      "Maximum balance in account: 102127 €\n"
     ]
    }
   ],
   "source": [
    "cur.execute(\"SELECT MAX(balance) FROM bank_full\")\n",
    "res = cur.fetchall()\n",
    "print(\"Maximum balance in account:\",int(float(res[0][0])),\"€\") #In Euro since it is portugese information"
   ]
  },
  {
   "cell_type": "markdown",
   "id": "b9c8ad83-eadb-4dc5-9aae-af761462663a",
   "metadata": {},
   "source": [
    "#### 4: How many customers have a housing loan?"
   ]
  },
  {
   "cell_type": "code",
   "execution_count": 23,
   "id": "78ce4a97-bc19-405a-a9e7-05f210730c2f",
   "metadata": {},
   "outputs": [
    {
     "name": "stdout",
     "output_type": "stream",
     "text": [
      "Number of customers with housing loans: 25130\n"
     ]
    }
   ],
   "source": [
    "cur.execute(\"SELECT housing, COUNT(*) AS obs FROM bank_full GROUP BY housing\")\n",
    "print(\"Number of customers with housing loans:\",cur.fetchall()[1][1])"
   ]
  },
  {
   "cell_type": "markdown",
   "id": "c99e7701-26ca-4145-948f-f333e05808c9",
   "metadata": {},
   "source": [
    "#### 5: What is the education level of the youngest customer?"
   ]
  },
  {
   "cell_type": "code",
   "execution_count": 11,
   "id": "5a122f30-e096-4105-bd77-e184da55474e",
   "metadata": {},
   "outputs": [
    {
     "data": {
      "text/html": [
       "<div>\n",
       "<style scoped>\n",
       "    .dataframe tbody tr th:only-of-type {\n",
       "        vertical-align: middle;\n",
       "    }\n",
       "\n",
       "    .dataframe tbody tr th {\n",
       "        vertical-align: top;\n",
       "    }\n",
       "\n",
       "    .dataframe thead th {\n",
       "        text-align: right;\n",
       "    }\n",
       "</style>\n",
       "<table border=\"1\" class=\"dataframe\">\n",
       "  <thead>\n",
       "    <tr style=\"text-align: right;\">\n",
       "      <th></th>\n",
       "      <th>Age</th>\n",
       "      <th>Frequency</th>\n",
       "    </tr>\n",
       "  </thead>\n",
       "  <tbody>\n",
       "    <tr>\n",
       "      <th>0</th>\n",
       "      <td>18</td>\n",
       "      <td>12</td>\n",
       "    </tr>\n",
       "    <tr>\n",
       "      <th>1</th>\n",
       "      <td>19</td>\n",
       "      <td>35</td>\n",
       "    </tr>\n",
       "    <tr>\n",
       "      <th>2</th>\n",
       "      <td>20</td>\n",
       "      <td>50</td>\n",
       "    </tr>\n",
       "    <tr>\n",
       "      <th>3</th>\n",
       "      <td>21</td>\n",
       "      <td>79</td>\n",
       "    </tr>\n",
       "    <tr>\n",
       "      <th>4</th>\n",
       "      <td>22</td>\n",
       "      <td>129</td>\n",
       "    </tr>\n",
       "    <tr>\n",
       "      <th>...</th>\n",
       "      <td>...</td>\n",
       "      <td>...</td>\n",
       "    </tr>\n",
       "    <tr>\n",
       "      <th>72</th>\n",
       "      <td>90</td>\n",
       "      <td>2</td>\n",
       "    </tr>\n",
       "    <tr>\n",
       "      <th>73</th>\n",
       "      <td>92</td>\n",
       "      <td>2</td>\n",
       "    </tr>\n",
       "    <tr>\n",
       "      <th>74</th>\n",
       "      <td>93</td>\n",
       "      <td>2</td>\n",
       "    </tr>\n",
       "    <tr>\n",
       "      <th>75</th>\n",
       "      <td>94</td>\n",
       "      <td>1</td>\n",
       "    </tr>\n",
       "    <tr>\n",
       "      <th>76</th>\n",
       "      <td>95</td>\n",
       "      <td>2</td>\n",
       "    </tr>\n",
       "  </tbody>\n",
       "</table>\n",
       "<p>77 rows × 2 columns</p>\n",
       "</div>"
      ],
      "text/plain": [
       "    Age  Frequency\n",
       "0    18         12\n",
       "1    19         35\n",
       "2    20         50\n",
       "3    21         79\n",
       "4    22        129\n",
       "..  ...        ...\n",
       "72   90          2\n",
       "73   92          2\n",
       "74   93          2\n",
       "75   94          1\n",
       "76   95          2\n",
       "\n",
       "[77 rows x 2 columns]"
      ]
     },
     "execution_count": 11,
     "metadata": {},
     "output_type": "execute_result"
    }
   ],
   "source": [
    "import pandas as pd\n",
    "\n",
    "cur.execute(\"SELECT age, COUNT(*) as obs FROM bank_full GROUP BY age ORDER BY age\")\n",
    "res = cur.fetchall()\n",
    "df = pd.DataFrame(res, columns = [\"Age\", \"Frequency\"])\n",
    "df"
   ]
  },
  {
   "cell_type": "code",
   "execution_count": null,
   "id": "9ed25069-0f0d-45a0-bde9-3fe4828be111",
   "metadata": {},
   "outputs": [],
   "source": [
    "cur.execute(\"SELECT education, MIN(age) AS min_age FROM bank_full GROUP BY age\")\n",
    "print(cur.fetchall())"
   ]
  },
  {
   "cell_type": "code",
   "execution_count": null,
   "id": "86ed9ad6-159f-42ce-aa87-7128ee85c52c",
   "metadata": {},
   "outputs": [],
   "source": [
    "cur.execute(\"SELECT MIN(age) FROM bank_full\")\n",
    "print(cur.fetchall())"
   ]
  },
  {
   "cell_type": "code",
   "execution_count": 9,
   "id": "cb2ec8f8-c2b8-4e80-8aff-4aab507be249",
   "metadata": {},
   "outputs": [
    {
     "name": "stdout",
     "output_type": "stream",
     "text": [
      "[('primary',), ('unknown',), ('primary',), ('unknown',), ('secondary',), ('unknown',), ('unknown',), ('secondary',), ('primary',), ('unknown',), ('unknown',), ('unknown',)]\n"
     ]
    }
   ],
   "source": [
    "cur.execute(\"SELECT education FROM bank_full WHERE age = (SELECT MIN(age) FROM bank_full)\")\n",
    "print(cur.fetchall())"
   ]
  },
  {
   "cell_type": "markdown",
   "id": "4fb630a8-270c-46bd-a2a5-9c0f8e17a21e",
   "metadata": {},
   "source": [
    "#### 6: What is the marital status of the oldest customer?"
   ]
  },
  {
   "cell_type": "markdown",
   "id": "7eb402c6-cd27-4893-b582-60f3415698ee",
   "metadata": {},
   "source": [
    "Just like before, we see from the table above that two customers share the oldest age in our data. We can see the marital status of both"
   ]
  },
  {
   "cell_type": "code",
   "execution_count": 3,
   "id": "561983a9-75ca-4c4d-8be8-c269a3ca7e83",
   "metadata": {},
   "outputs": [
    {
     "name": "stdout",
     "output_type": "stream",
     "text": [
      "[('divorced',), ('married',)]\n"
     ]
    }
   ],
   "source": [
    "cur.execute(\"SELECT marital FROM bank_full WHERE age = (SELECT MAX(age) FROM bank_full)\")\n",
    "print(cur.fetchall())"
   ]
  },
  {
   "cell_type": "markdown",
   "id": "9d133f51-8ebc-4145-917e-98665e0f37e2",
   "metadata": {},
   "source": [
    "#### 7: What is the distribution of the months in which customers were last contacted?"
   ]
  },
  {
   "cell_type": "code",
   "execution_count": null,
   "id": "d35cafc5-7412-4391-99d1-903aeaa74f5d",
   "metadata": {},
   "outputs": [],
   "source": [
    "import pandas as pd\n",
    "\n",
    "cur.execute(\"SELECT month, COUNT(*) as obs FROM bank_full GROUP BY month ORDER BY obs DESC\")\n",
    "res= cur.fetchall()\n",
    "df = pd.DataFrame(res, columns = [\"Month\",\"Frequency\"])\n",
    "df"
   ]
  },
  {
   "cell_type": "markdown",
   "id": "386e791d-a385-43ad-a158-1366c38f7b40",
   "metadata": {},
   "source": [
    "We can see that may is the month in which most customers were last contacted"
   ]
  },
  {
   "cell_type": "markdown",
   "id": "faffe9c6-cd91-48a6-9137-51d7cf0e0814",
   "metadata": {},
   "source": [
    "#### 8: What is the average duration of contact for customers who have a personal loan?"
   ]
  },
  {
   "cell_type": "code",
   "execution_count": 7,
   "id": "cc5fcd76-a1cb-4a25-8860-29ba1e90dfbc",
   "metadata": {},
   "outputs": [
    {
     "name": "stdout",
     "output_type": "stream",
     "text": [
      "Average duration of contact for customers who have a personal loan:\n",
      " 250 seconds\n"
     ]
    }
   ],
   "source": [
    "cur.execute(\"SELECT AVG(CASE WHEN loan = 'yes' THEN duration ELSE NULL END) AS avg_duration_with_loan FROM bank_full\")\n",
    "res = cur.fetchall()\n",
    "print(\"Average duration of contact for customers who have a personal loan:\\n\",int(float(res[0][0])),\"seconds\")"
   ]
  },
  {
   "cell_type": "markdown",
   "id": "56035f02-6a8e-4a38-9901-6e15f8032dbf",
   "metadata": {},
   "source": [
    "#### 9: How many customers were previously contacted, and what was the average duration of their last contact?"
   ]
  },
  {
   "cell_type": "code",
   "execution_count": 6,
   "id": "c85593d6-194a-449b-ac2a-1e977385a6d7",
   "metadata": {},
   "outputs": [
    {
     "name": "stdout",
     "output_type": "stream",
     "text": [
      "Number of customers previously contacted: 8257 \n",
      "Average duration of their last contact: 260 seconds\n"
     ]
    }
   ],
   "source": [
    "cur.execute(\"SELECT COUNT(previous) FROM bank_full WHERE previous > 0\")\n",
    "prev = cur.fetchall()\n",
    "\n",
    "cur.execute(\"SELECT AVG(duration) FROM bank_full WHERE previous > 0\")\n",
    "avg = cur.fetchall()\n",
    "\n",
    "print(\"Number of customers previously contacted:\", int(float(prev[0][0])), \"\\nAverage duration of their last contact:\",int(float(avg[0][0])),\"seconds\")"
   ]
  },
  {
   "cell_type": "markdown",
   "id": "5008b5ec-dd0f-4032-92bf-1146704664ec",
   "metadata": {},
   "source": [
    "#### 10: What is the distribution of job types among customers?"
   ]
  },
  {
   "cell_type": "code",
   "execution_count": 24,
   "id": "a4ccf11c-99c5-4029-b429-6bdfdd1e1453",
   "metadata": {},
   "outputs": [
    {
     "data": {
      "text/html": [
       "<div>\n",
       "<style scoped>\n",
       "    .dataframe tbody tr th:only-of-type {\n",
       "        vertical-align: middle;\n",
       "    }\n",
       "\n",
       "    .dataframe tbody tr th {\n",
       "        vertical-align: top;\n",
       "    }\n",
       "\n",
       "    .dataframe thead th {\n",
       "        text-align: right;\n",
       "    }\n",
       "</style>\n",
       "<table border=\"1\" class=\"dataframe\">\n",
       "  <thead>\n",
       "    <tr style=\"text-align: right;\">\n",
       "      <th></th>\n",
       "      <th>Job Type</th>\n",
       "      <th>Frequency</th>\n",
       "    </tr>\n",
       "  </thead>\n",
       "  <tbody>\n",
       "    <tr>\n",
       "      <th>0</th>\n",
       "      <td>blue-collar</td>\n",
       "      <td>9732</td>\n",
       "    </tr>\n",
       "    <tr>\n",
       "      <th>1</th>\n",
       "      <td>management</td>\n",
       "      <td>9458</td>\n",
       "    </tr>\n",
       "    <tr>\n",
       "      <th>2</th>\n",
       "      <td>technician</td>\n",
       "      <td>7597</td>\n",
       "    </tr>\n",
       "    <tr>\n",
       "      <th>3</th>\n",
       "      <td>admin.</td>\n",
       "      <td>5171</td>\n",
       "    </tr>\n",
       "    <tr>\n",
       "      <th>4</th>\n",
       "      <td>services</td>\n",
       "      <td>4154</td>\n",
       "    </tr>\n",
       "    <tr>\n",
       "      <th>5</th>\n",
       "      <td>retired</td>\n",
       "      <td>2264</td>\n",
       "    </tr>\n",
       "    <tr>\n",
       "      <th>6</th>\n",
       "      <td>self-employed</td>\n",
       "      <td>1579</td>\n",
       "    </tr>\n",
       "    <tr>\n",
       "      <th>7</th>\n",
       "      <td>entrepreneur</td>\n",
       "      <td>1487</td>\n",
       "    </tr>\n",
       "    <tr>\n",
       "      <th>8</th>\n",
       "      <td>unemployed</td>\n",
       "      <td>1303</td>\n",
       "    </tr>\n",
       "    <tr>\n",
       "      <th>9</th>\n",
       "      <td>housemaid</td>\n",
       "      <td>1240</td>\n",
       "    </tr>\n",
       "    <tr>\n",
       "      <th>10</th>\n",
       "      <td>student</td>\n",
       "      <td>938</td>\n",
       "    </tr>\n",
       "    <tr>\n",
       "      <th>11</th>\n",
       "      <td>unknown</td>\n",
       "      <td>288</td>\n",
       "    </tr>\n",
       "  </tbody>\n",
       "</table>\n",
       "</div>"
      ],
      "text/plain": [
       "         Job Type  Frequency\n",
       "0     blue-collar       9732\n",
       "1      management       9458\n",
       "2      technician       7597\n",
       "3          admin.       5171\n",
       "4        services       4154\n",
       "5         retired       2264\n",
       "6   self-employed       1579\n",
       "7    entrepreneur       1487\n",
       "8      unemployed       1303\n",
       "9       housemaid       1240\n",
       "10        student        938\n",
       "11        unknown        288"
      ]
     },
     "execution_count": 24,
     "metadata": {},
     "output_type": "execute_result"
    }
   ],
   "source": [
    "cur.execute(\"SELECT job, COUNT(*) AS obs FROM bank_full GROUP BY job ORDER BY obs DESC\")\n",
    "res= cur.fetchall()\n",
    "df = pd.DataFrame(res, columns = [\"Job Type\",\"Frequency\"])\n",
    "df"
   ]
  },
  {
   "cell_type": "markdown",
   "id": "84513379-da81-40b4-90ee-f69f926be515",
   "metadata": {},
   "source": [
    "#### 11: How many customers have been contacted more than once in the current campaign?"
   ]
  },
  {
   "cell_type": "code",
   "execution_count": 13,
   "id": "4690c49f-c0b5-4967-b9c6-50476936547e",
   "metadata": {},
   "outputs": [
    {
     "name": "stdout",
     "output_type": "stream",
     "text": [
      "Number of customers contacted more than once in the current campaign: 27667\n"
     ]
    }
   ],
   "source": [
    "cur.execute(\"SELECT COUNT(campaign) FROM bank_full WHERE campaign > 1\")\n",
    "res = cur.fetchall()\n",
    "\n",
    "print(\"Number of customers contacted more than once in the current campaign:\", int(float(res[0][0])))"
   ]
  },
  {
   "cell_type": "markdown",
   "id": "ec686a29-668b-4c04-b4dc-847d3fe5d48e",
   "metadata": {},
   "source": [
    "#### 12: What is the success rate of previous marketing campaigns (poutcome) among customers"
   ]
  },
  {
   "cell_type": "markdown",
   "id": "32da9e9c-975e-4b7e-934a-a2a95c929713",
   "metadata": {},
   "source": [
    "Customers who haven't been contacted during the previous campaign have a poutcome of 'unkown', and thus shouldn't be taken into consideration when calculating the ratio"
   ]
  },
  {
   "cell_type": "code",
   "execution_count": null,
   "id": "2039e284-f57b-4b3d-8238-4e623f5660f4",
   "metadata": {},
   "outputs": [],
   "source": [
    "cur.execute(\"SELECT poutcome, COUNT(*) AS obs FROM bank_full GROUP BY poutcome\") gf \n",
    "res = cur.fetchall()\n",
    "\n",
    "other = res[0][1]\n",
    "failure = res[1][1]\n",
    "success = res[3][1]\n",
    "\n",
    "success_rate = int(success/(other+failure+success)*100)\n",
    "print(\"Success rate:\",success_rate,\"%\")"
   ]
  }
 ],
 "metadata": {
  "kernelspec": {
   "display_name": "Python 3 (ipykernel)",
   "language": "python",
   "name": "python3"
  },
  "language_info": {
   "codemirror_mode": {
    "name": "ipython",
    "version": 3
   },
   "file_extension": ".py",
   "mimetype": "text/x-python",
   "name": "python",
   "nbconvert_exporter": "python",
   "pygments_lexer": "ipython3",
   "version": "3.12.2"
  }
 },
 "nbformat": 4,
 "nbformat_minor": 5
}
